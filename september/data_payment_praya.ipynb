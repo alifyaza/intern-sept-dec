{
 "cells": [
  {
   "cell_type": "code",
   "execution_count": 1,
   "metadata": {},
   "outputs": [],
   "source": [
    "import pandas as pd\n",
    "import matplotlib.pyplot as plt\n",
    "import seaborn as sns"
   ]
  },
  {
   "cell_type": "markdown",
   "metadata": {},
   "source": [
    "# Import Data"
   ]
  },
  {
   "cell_type": "code",
   "execution_count": 2,
   "metadata": {},
   "outputs": [],
   "source": [
    "df_pay = pd.read_excel(r'C:\\Users\\Lenovo\\Documents\\Work\\Pelindo\\data\\Data Payment Praya W1 September 2024.xlsx')"
   ]
  },
  {
   "cell_type": "code",
   "execution_count": 3,
   "metadata": {},
   "outputs": [],
   "source": [
    "df_ori = pd.read_excel(r'C:\\Users\\Lenovo\\Documents\\Work\\Pelindo\\data\\ori_PRAYA_PROD_DETAIL_PAYMENT.xls')"
   ]
  },
  {
   "cell_type": "markdown",
   "metadata": {},
   "source": [
    "# Match Data df_pay With df_ori"
   ]
  },
  {
   "cell_type": "markdown",
   "metadata": {},
   "source": [
    "due to df_pay data show some data not in september 2024"
   ]
  },
  {
   "cell_type": "code",
   "execution_count": 4,
   "metadata": {},
   "outputs": [
    {
     "data": {
      "text/plain": [
       "Index(['INVOICE_NUMBER', 'PAYMENT_CODE', 'PAYMENT_DATE_IHUB', 'FLAGGING_PRAYA',\n",
       "       'SAP_SEND_LOG', 'STATUS', 'SAP_COMPLETE',\n",
       "       'Jeda flagging lunas di PRAYA dari saat customer melakukan payment',\n",
       "       'Jeda pengiriman nota praya ke SAP',\n",
       "       'Lama Proses Generate No Faktur di SAP',\n",
       "       'Total Lamanya Nota dapat dicetak sejak customer melakukan pembayaran'],\n",
       "      dtype='object')"
      ]
     },
     "execution_count": 4,
     "metadata": {},
     "output_type": "execute_result"
    }
   ],
   "source": [
    "df_pay.columns"
   ]
  },
  {
   "cell_type": "code",
   "execution_count": 5,
   "metadata": {},
   "outputs": [],
   "source": [
    "df_pay.rename(columns={'INVOICE_NUMBER': 'invoice_number',\n",
    "                   'PAYMENT_CODE':'payment_code',\n",
    "                   'PAYMENT_DATE_IHUB':'payment_date_ihub',\n",
    "                   'FLAGGING_PRAYA': 'flagging_praya',\n",
    "                   'SAP_SEND_LOG':'sap_send_log',\n",
    "                   'STATUS': 'status',\n",
    "                   'SAP_COMPLETE':'sap_complete',\n",
    "                   'Jeda flagging lunas di PRAYA dari saat customer melakukan payment': 'flagging_praya_delay',\n",
    "                   'Jeda pengiriman nota praya ke SAP':'sap_send_delay',\n",
    "                   'Lama Proses Generate No Faktur di SAP':'sap_nofaktur_generate_time',\n",
    "                   'Total Lamanya Nota dapat dicetak sejak customer melakukan pembayaran':'total_time_to_print_invoice'}, inplace=True)"
   ]
  },
  {
   "cell_type": "code",
   "execution_count": 6,
   "metadata": {},
   "outputs": [
    {
     "data": {
      "text/plain": [
       "Index(['invoice_number', 'payment_code', 'payment_date_ihub', 'flagging_praya',\n",
       "       'sap_send_log', 'status', 'sap_complete', 'flagging_praya_delay',\n",
       "       'sap_send_delay', 'sap_nofaktur_generate_time',\n",
       "       'total_time_to_print_invoice'],\n",
       "      dtype='object')"
      ]
     },
     "execution_count": 6,
     "metadata": {},
     "output_type": "execute_result"
    }
   ],
   "source": [
    "df_pay.columns"
   ]
  },
  {
   "cell_type": "code",
   "execution_count": 7,
   "metadata": {},
   "outputs": [
    {
     "data": {
      "text/plain": [
       "Index(['INVOICE_NUMBER', 'NO_INTEGRATION_SAP', 'DOC_NO_SAP', 'PAYMENT_CODE',\n",
       "       'PAYMENT_DATE_IHUB', 'FLAGGING_PRAYA', 'SAP_SEND_LOG', 'STATUS',\n",
       "       'SAP_COMPLETE', 'FAKTUR_SAP', 'SELISIH SAP DAN FLAGGING PRAY',\n",
       "       'KATEGORI_SELISIH SAP DAN FRAGGING',\n",
       "       'SELISIH FRAGGING DAN PAYMENT_DATE',\n",
       "       'KATEGORI_SELISIH FRAGGING DAN PAYMENT_DATE'],\n",
       "      dtype='object')"
      ]
     },
     "execution_count": 7,
     "metadata": {},
     "output_type": "execute_result"
    }
   ],
   "source": [
    "df_ori.columns"
   ]
  },
  {
   "cell_type": "code",
   "execution_count": 8,
   "metadata": {},
   "outputs": [],
   "source": [
    "df_ori.columns = df_ori.columns.str.replace(' ', '_').str.lower()"
   ]
  },
  {
   "cell_type": "code",
   "execution_count": 9,
   "metadata": {},
   "outputs": [
    {
     "data": {
      "text/plain": [
       "Index(['invoice_number', 'no_integration_sap', 'doc_no_sap', 'payment_code',\n",
       "       'payment_date_ihub', 'flagging_praya', 'sap_send_log', 'status',\n",
       "       'sap_complete', 'faktur_sap', 'selisih_sap_dan_flagging_pray',\n",
       "       'kategori_selisih_sap_dan_fragging',\n",
       "       'selisih_fragging_dan_payment_date',\n",
       "       'kategori_selisih_fragging_dan_payment_date'],\n",
       "      dtype='object')"
      ]
     },
     "execution_count": 9,
     "metadata": {},
     "output_type": "execute_result"
    }
   ],
   "source": [
    "df_ori.columns"
   ]
  },
  {
   "cell_type": "markdown",
   "metadata": {},
   "source": [
    "**findings**: Dilakukan standarisasi nama parameter untuk memudahkan dalam analisis data. Standarisasi yang dilakukan berupa penggunaan underscore (_) untuk setiap spasi, tidak adanya penggunaan huruf kapital, dan mengubah nama parameter yang terlalu panjang. Standarisasi ini dilakukan untuk kedua dataframe (**df_pay** dan **df_ori**)"
   ]
  },
  {
   "cell_type": "code",
   "execution_count": 10,
   "metadata": {},
   "outputs": [
    {
     "data": {
      "text/plain": [
       "invoice_number\n",
       "True    590\n",
       "Name: count, dtype: int64"
      ]
     },
     "execution_count": 10,
     "metadata": {},
     "output_type": "execute_result"
    }
   ],
   "source": [
    "# check if there are the same value for df_pay invoice_number and df_ori invoice_number\n",
    "df_pay['invoice_number'].isin(df_ori['invoice_number']).value_counts()"
   ]
  },
  {
   "cell_type": "code",
   "execution_count": 11,
   "metadata": {},
   "outputs": [
    {
     "data": {
      "text/plain": [
       "invoice_number\n",
       "False    8879\n",
       "True      591\n",
       "Name: count, dtype: int64"
      ]
     },
     "execution_count": 11,
     "metadata": {},
     "output_type": "execute_result"
    }
   ],
   "source": [
    "# check if there are the same value for df_ori invoice_number and df_pay invoice_number (opposite)\n",
    "df_ori['invoice_number'].isin(df_pay['invoice_number']).value_counts()"
   ]
  },
  {
   "cell_type": "markdown",
   "metadata": {},
   "source": [
    "**findings**: ada data dari df_pay yang sama dengan df_ori berdasarkan invoice_number dengan jumlah baris yang sesuai dengan total df_pay yang berarti semua invoice_number di df_pay ada di df_ori.\n",
    "\n",
    "Namun, ketika dilakukan sebaliknya, ada 591 data dari df_ori yang memiliki invoice number yang sama dengan df_pay, yang berarti melebihi total data seharusnya dari df_pay."
   ]
  },
  {
   "cell_type": "code",
   "execution_count": 12,
   "metadata": {},
   "outputs": [
    {
     "data": {
      "text/html": [
       "<div>\n",
       "<style scoped>\n",
       "    .dataframe tbody tr th:only-of-type {\n",
       "        vertical-align: middle;\n",
       "    }\n",
       "\n",
       "    .dataframe tbody tr th {\n",
       "        vertical-align: top;\n",
       "    }\n",
       "\n",
       "    .dataframe thead th {\n",
       "        text-align: right;\n",
       "    }\n",
       "</style>\n",
       "<table border=\"1\" class=\"dataframe\">\n",
       "  <thead>\n",
       "    <tr style=\"text-align: right;\">\n",
       "      <th></th>\n",
       "      <th>invoice_number</th>\n",
       "      <th>no_integration_sap</th>\n",
       "      <th>doc_no_sap</th>\n",
       "      <th>payment_code</th>\n",
       "      <th>payment_date_ihub</th>\n",
       "      <th>flagging_praya</th>\n",
       "      <th>sap_send_log</th>\n",
       "      <th>status</th>\n",
       "      <th>sap_complete</th>\n",
       "      <th>faktur_sap</th>\n",
       "      <th>selisih_sap_dan_flagging_pray</th>\n",
       "      <th>kategori_selisih_sap_dan_fragging</th>\n",
       "      <th>selisih_fragging_dan_payment_date</th>\n",
       "      <th>kategori_selisih_fragging_dan_payment_date</th>\n",
       "    </tr>\n",
       "  </thead>\n",
       "  <tbody>\n",
       "    <tr>\n",
       "      <th>6</th>\n",
       "      <td>010.182.24-01.011686</td>\n",
       "      <td>I480099407/2024</td>\n",
       "      <td>9800098239/2024-3000</td>\n",
       "      <td>12409731015011</td>\n",
       "      <td>2024-09-08 13:52:00</td>\n",
       "      <td>2024-09-08 20:52:03</td>\n",
       "      <td>2024-09-08 20:53:04</td>\n",
       "      <td>PAID</td>\n",
       "      <td>2024-09-08 20:53:08</td>\n",
       "      <td>010.30112.24.00011044</td>\n",
       "      <td>1.016667</td>\n",
       "      <td>&gt;1 MENIT</td>\n",
       "      <td>0.050000</td>\n",
       "      <td>&lt;1 MENIT</td>\n",
       "    </tr>\n",
       "    <tr>\n",
       "      <th>11</th>\n",
       "      <td>010.643.24-73.042795</td>\n",
       "      <td>I480099420/2024</td>\n",
       "      <td>9800098252/2024-3000</td>\n",
       "      <td>12409731015663</td>\n",
       "      <td>2024-09-08 14:39:00</td>\n",
       "      <td>2024-09-08 21:39:02</td>\n",
       "      <td>2024-09-08 21:40:02</td>\n",
       "      <td>PAID</td>\n",
       "      <td>2024-09-08 21:40:06</td>\n",
       "      <td>010.30196.24.00028105</td>\n",
       "      <td>1.000000</td>\n",
       "      <td>&gt;1 MENIT</td>\n",
       "      <td>0.033333</td>\n",
       "      <td>&lt;1 MENIT</td>\n",
       "    </tr>\n",
       "    <tr>\n",
       "      <th>59</th>\n",
       "      <td>010.182.24-01.011673</td>\n",
       "      <td>I480099357/2024</td>\n",
       "      <td>9800098189/2024-3000</td>\n",
       "      <td>12409731015521</td>\n",
       "      <td>2024-09-08 11:27:00</td>\n",
       "      <td>2024-09-08 18:27:02</td>\n",
       "      <td>2024-09-08 18:28:03</td>\n",
       "      <td>PAID</td>\n",
       "      <td>2024-09-08 18:28:07</td>\n",
       "      <td>010.30112.24.00011032</td>\n",
       "      <td>1.016667</td>\n",
       "      <td>&gt;1 MENIT</td>\n",
       "      <td>0.033333</td>\n",
       "      <td>&lt;1 MENIT</td>\n",
       "    </tr>\n",
       "    <tr>\n",
       "      <th>64</th>\n",
       "      <td>010.182.24-01.011672</td>\n",
       "      <td>I480099353/2024</td>\n",
       "      <td>9800098185/2024-3000</td>\n",
       "      <td>12409731015511</td>\n",
       "      <td>2024-09-08 11:11:00</td>\n",
       "      <td>2024-09-08 18:11:01</td>\n",
       "      <td>2024-09-08 18:12:04</td>\n",
       "      <td>PAID</td>\n",
       "      <td>2024-09-08 18:12:08</td>\n",
       "      <td>010.30112.24.00011031</td>\n",
       "      <td>1.050000</td>\n",
       "      <td>&gt;1 MENIT</td>\n",
       "      <td>0.016667</td>\n",
       "      <td>&lt;1 MENIT</td>\n",
       "    </tr>\n",
       "    <tr>\n",
       "      <th>66</th>\n",
       "      <td>010.643.24-74.029123</td>\n",
       "      <td>I480099370/2024</td>\n",
       "      <td>9800098202/2024-3000</td>\n",
       "      <td>12409731013850</td>\n",
       "      <td>2024-09-08 12:04:00</td>\n",
       "      <td>2024-09-08 19:04:02</td>\n",
       "      <td>2024-09-08 19:05:02</td>\n",
       "      <td>PAID</td>\n",
       "      <td>2024-09-08 19:05:07</td>\n",
       "      <td>010.30196.24.00028084</td>\n",
       "      <td>1.000000</td>\n",
       "      <td>&gt;1 MENIT</td>\n",
       "      <td>0.033333</td>\n",
       "      <td>&lt;1 MENIT</td>\n",
       "    </tr>\n",
       "  </tbody>\n",
       "</table>\n",
       "</div>"
      ],
      "text/plain": [
       "          invoice_number no_integration_sap            doc_no_sap  \\\n",
       "6   010.182.24-01.011686    I480099407/2024  9800098239/2024-3000   \n",
       "11  010.643.24-73.042795    I480099420/2024  9800098252/2024-3000   \n",
       "59  010.182.24-01.011673    I480099357/2024  9800098189/2024-3000   \n",
       "64  010.182.24-01.011672    I480099353/2024  9800098185/2024-3000   \n",
       "66  010.643.24-74.029123    I480099370/2024  9800098202/2024-3000   \n",
       "\n",
       "      payment_code   payment_date_ihub      flagging_praya  \\\n",
       "6   12409731015011 2024-09-08 13:52:00 2024-09-08 20:52:03   \n",
       "11  12409731015663 2024-09-08 14:39:00 2024-09-08 21:39:02   \n",
       "59  12409731015521 2024-09-08 11:27:00 2024-09-08 18:27:02   \n",
       "64  12409731015511 2024-09-08 11:11:00 2024-09-08 18:11:01   \n",
       "66  12409731013850 2024-09-08 12:04:00 2024-09-08 19:04:02   \n",
       "\n",
       "          sap_send_log status        sap_complete             faktur_sap  \\\n",
       "6  2024-09-08 20:53:04   PAID 2024-09-08 20:53:08  010.30112.24.00011044   \n",
       "11 2024-09-08 21:40:02   PAID 2024-09-08 21:40:06  010.30196.24.00028105   \n",
       "59 2024-09-08 18:28:03   PAID 2024-09-08 18:28:07  010.30112.24.00011032   \n",
       "64 2024-09-08 18:12:04   PAID 2024-09-08 18:12:08  010.30112.24.00011031   \n",
       "66 2024-09-08 19:05:02   PAID 2024-09-08 19:05:07  010.30196.24.00028084   \n",
       "\n",
       "    selisih_sap_dan_flagging_pray kategori_selisih_sap_dan_fragging  \\\n",
       "6                        1.016667                          >1 MENIT   \n",
       "11                       1.000000                          >1 MENIT   \n",
       "59                       1.016667                          >1 MENIT   \n",
       "64                       1.050000                          >1 MENIT   \n",
       "66                       1.000000                          >1 MENIT   \n",
       "\n",
       "    selisih_fragging_dan_payment_date  \\\n",
       "6                            0.050000   \n",
       "11                           0.033333   \n",
       "59                           0.033333   \n",
       "64                           0.016667   \n",
       "66                           0.033333   \n",
       "\n",
       "   kategori_selisih_fragging_dan_payment_date  \n",
       "6                                    <1 MENIT  \n",
       "11                                   <1 MENIT  \n",
       "59                                   <1 MENIT  \n",
       "64                                   <1 MENIT  \n",
       "66                                   <1 MENIT  "
      ]
     },
     "execution_count": 12,
     "metadata": {},
     "output_type": "execute_result"
    }
   ],
   "source": [
    "check_true_invoice = df_ori[df_ori['invoice_number'].isin(df_pay['invoice_number'])]\n",
    "\n",
    "check_true_invoice.head(5)"
   ]
  },
  {
   "cell_type": "code",
   "execution_count": 13,
   "metadata": {},
   "outputs": [
    {
     "data": {
      "text/html": [
       "<div>\n",
       "<style scoped>\n",
       "    .dataframe tbody tr th:only-of-type {\n",
       "        vertical-align: middle;\n",
       "    }\n",
       "\n",
       "    .dataframe tbody tr th {\n",
       "        vertical-align: top;\n",
       "    }\n",
       "\n",
       "    .dataframe thead th {\n",
       "        text-align: right;\n",
       "    }\n",
       "</style>\n",
       "<table border=\"1\" class=\"dataframe\">\n",
       "  <thead>\n",
       "    <tr style=\"text-align: right;\">\n",
       "      <th></th>\n",
       "      <th>invoice_number</th>\n",
       "      <th>no_integration_sap</th>\n",
       "      <th>doc_no_sap</th>\n",
       "      <th>payment_code</th>\n",
       "      <th>payment_date_ihub</th>\n",
       "      <th>flagging_praya</th>\n",
       "      <th>sap_send_log</th>\n",
       "      <th>status</th>\n",
       "      <th>sap_complete</th>\n",
       "      <th>faktur_sap</th>\n",
       "      <th>selisih_sap_dan_flagging_pray</th>\n",
       "      <th>kategori_selisih_sap_dan_fragging</th>\n",
       "      <th>selisih_fragging_dan_payment_date</th>\n",
       "      <th>kategori_selisih_fragging_dan_payment_date</th>\n",
       "    </tr>\n",
       "  </thead>\n",
       "  <tbody>\n",
       "    <tr>\n",
       "      <th>6513</th>\n",
       "      <td>010.643.24-01.000566</td>\n",
       "      <td>I480090848/2024</td>\n",
       "      <td>9800089742/2024-3000</td>\n",
       "      <td>12407730765658</td>\n",
       "      <td>2024-07-12 02:43:00</td>\n",
       "      <td>2024-07-12 09:43:12</td>\n",
       "      <td>2024-09-02 10:56:57</td>\n",
       "      <td>PAID</td>\n",
       "      <td>2024-09-02 10:57:03</td>\n",
       "      <td>010.30196.24.00025654</td>\n",
       "      <td>74953.75</td>\n",
       "      <td>&gt;2 MENIT</td>\n",
       "      <td>0.2</td>\n",
       "      <td>&lt;1 MENIT</td>\n",
       "    </tr>\n",
       "  </tbody>\n",
       "</table>\n",
       "</div>"
      ],
      "text/plain": [
       "            invoice_number no_integration_sap            doc_no_sap  \\\n",
       "6513  010.643.24-01.000566    I480090848/2024  9800089742/2024-3000   \n",
       "\n",
       "        payment_code   payment_date_ihub      flagging_praya  \\\n",
       "6513  12407730765658 2024-07-12 02:43:00 2024-07-12 09:43:12   \n",
       "\n",
       "            sap_send_log status        sap_complete             faktur_sap  \\\n",
       "6513 2024-09-02 10:56:57   PAID 2024-09-02 10:57:03  010.30196.24.00025654   \n",
       "\n",
       "      selisih_sap_dan_flagging_pray kategori_selisih_sap_dan_fragging  \\\n",
       "6513                       74953.75                          >2 MENIT   \n",
       "\n",
       "      selisih_fragging_dan_payment_date  \\\n",
       "6513                                0.2   \n",
       "\n",
       "     kategori_selisih_fragging_dan_payment_date  \n",
       "6513                                   <1 MENIT  "
      ]
     },
     "execution_count": 13,
     "metadata": {},
     "output_type": "execute_result"
    }
   ],
   "source": [
    "check_true_invoice[check_true_invoice.duplicated('invoice_number')]"
   ]
  },
  {
   "cell_type": "code",
   "execution_count": 14,
   "metadata": {},
   "outputs": [
    {
     "data": {
      "text/html": [
       "<div>\n",
       "<style scoped>\n",
       "    .dataframe tbody tr th:only-of-type {\n",
       "        vertical-align: middle;\n",
       "    }\n",
       "\n",
       "    .dataframe tbody tr th {\n",
       "        vertical-align: top;\n",
       "    }\n",
       "\n",
       "    .dataframe thead th {\n",
       "        text-align: right;\n",
       "    }\n",
       "</style>\n",
       "<table border=\"1\" class=\"dataframe\">\n",
       "  <thead>\n",
       "    <tr style=\"text-align: right;\">\n",
       "      <th></th>\n",
       "      <th>invoice_number</th>\n",
       "      <th>no_integration_sap</th>\n",
       "      <th>doc_no_sap</th>\n",
       "      <th>payment_code</th>\n",
       "      <th>payment_date_ihub</th>\n",
       "      <th>flagging_praya</th>\n",
       "      <th>sap_send_log</th>\n",
       "      <th>status</th>\n",
       "      <th>sap_complete</th>\n",
       "      <th>faktur_sap</th>\n",
       "      <th>selisih_sap_dan_flagging_pray</th>\n",
       "      <th>kategori_selisih_sap_dan_fragging</th>\n",
       "      <th>selisih_fragging_dan_payment_date</th>\n",
       "      <th>kategori_selisih_fragging_dan_payment_date</th>\n",
       "    </tr>\n",
       "  </thead>\n",
       "  <tbody>\n",
       "    <tr>\n",
       "      <th>6512</th>\n",
       "      <td>010.643.24-01.000566</td>\n",
       "      <td>I480090848/2024</td>\n",
       "      <td>9800089742/2024-3000</td>\n",
       "      <td>12407730765658</td>\n",
       "      <td>2024-07-12 02:43:00</td>\n",
       "      <td>2024-07-12 09:43:12</td>\n",
       "      <td>2024-07-12 09:43:44</td>\n",
       "      <td>PAID</td>\n",
       "      <td>2024-09-02 10:57:03</td>\n",
       "      <td>010.30196.24.00025654</td>\n",
       "      <td>0.533333</td>\n",
       "      <td>&lt;1 MENIT</td>\n",
       "      <td>0.2</td>\n",
       "      <td>&lt;1 MENIT</td>\n",
       "    </tr>\n",
       "    <tr>\n",
       "      <th>6513</th>\n",
       "      <td>010.643.24-01.000566</td>\n",
       "      <td>I480090848/2024</td>\n",
       "      <td>9800089742/2024-3000</td>\n",
       "      <td>12407730765658</td>\n",
       "      <td>2024-07-12 02:43:00</td>\n",
       "      <td>2024-07-12 09:43:12</td>\n",
       "      <td>2024-09-02 10:56:57</td>\n",
       "      <td>PAID</td>\n",
       "      <td>2024-09-02 10:57:03</td>\n",
       "      <td>010.30196.24.00025654</td>\n",
       "      <td>74953.750000</td>\n",
       "      <td>&gt;2 MENIT</td>\n",
       "      <td>0.2</td>\n",
       "      <td>&lt;1 MENIT</td>\n",
       "    </tr>\n",
       "  </tbody>\n",
       "</table>\n",
       "</div>"
      ],
      "text/plain": [
       "            invoice_number no_integration_sap            doc_no_sap  \\\n",
       "6512  010.643.24-01.000566    I480090848/2024  9800089742/2024-3000   \n",
       "6513  010.643.24-01.000566    I480090848/2024  9800089742/2024-3000   \n",
       "\n",
       "        payment_code   payment_date_ihub      flagging_praya  \\\n",
       "6512  12407730765658 2024-07-12 02:43:00 2024-07-12 09:43:12   \n",
       "6513  12407730765658 2024-07-12 02:43:00 2024-07-12 09:43:12   \n",
       "\n",
       "            sap_send_log status        sap_complete             faktur_sap  \\\n",
       "6512 2024-07-12 09:43:44   PAID 2024-09-02 10:57:03  010.30196.24.00025654   \n",
       "6513 2024-09-02 10:56:57   PAID 2024-09-02 10:57:03  010.30196.24.00025654   \n",
       "\n",
       "      selisih_sap_dan_flagging_pray kategori_selisih_sap_dan_fragging  \\\n",
       "6512                       0.533333                          <1 MENIT   \n",
       "6513                   74953.750000                          >2 MENIT   \n",
       "\n",
       "      selisih_fragging_dan_payment_date  \\\n",
       "6512                                0.2   \n",
       "6513                                0.2   \n",
       "\n",
       "     kategori_selisih_fragging_dan_payment_date  \n",
       "6512                                   <1 MENIT  \n",
       "6513                                   <1 MENIT  "
      ]
     },
     "execution_count": 14,
     "metadata": {},
     "output_type": "execute_result"
    }
   ],
   "source": [
    "check_true_invoice[check_true_invoice['invoice_number'] == '010.643.24-01.000566']"
   ]
  },
  {
   "cell_type": "code",
   "execution_count": 15,
   "metadata": {},
   "outputs": [
    {
     "data": {
      "text/html": [
       "<div>\n",
       "<style scoped>\n",
       "    .dataframe tbody tr th:only-of-type {\n",
       "        vertical-align: middle;\n",
       "    }\n",
       "\n",
       "    .dataframe tbody tr th {\n",
       "        vertical-align: top;\n",
       "    }\n",
       "\n",
       "    .dataframe thead th {\n",
       "        text-align: right;\n",
       "    }\n",
       "</style>\n",
       "<table border=\"1\" class=\"dataframe\">\n",
       "  <thead>\n",
       "    <tr style=\"text-align: right;\">\n",
       "      <th></th>\n",
       "      <th>invoice_number</th>\n",
       "      <th>payment_code</th>\n",
       "      <th>payment_date_ihub</th>\n",
       "      <th>flagging_praya</th>\n",
       "      <th>sap_send_log</th>\n",
       "      <th>status</th>\n",
       "      <th>sap_complete</th>\n",
       "      <th>flagging_praya_delay</th>\n",
       "      <th>sap_send_delay</th>\n",
       "      <th>sap_nofaktur_generate_time</th>\n",
       "      <th>total_time_to_print_invoice</th>\n",
       "    </tr>\n",
       "  </thead>\n",
       "  <tbody>\n",
       "    <tr>\n",
       "      <th>384</th>\n",
       "      <td>010.643.24-01.000566</td>\n",
       "      <td>12409731015011</td>\n",
       "      <td>2025-09-27 13:51:59.995</td>\n",
       "      <td>2025-09-27 20:52:02.995</td>\n",
       "      <td>2025-09-27 20:53:04</td>\n",
       "      <td>PAID</td>\n",
       "      <td>2025-09-27 20:53:07.995</td>\n",
       "      <td>0 days 00:00:12</td>\n",
       "      <td>52 days 01:13:45</td>\n",
       "      <td>0 days 00:00:06</td>\n",
       "      <td>52 days 01:14:03</td>\n",
       "    </tr>\n",
       "  </tbody>\n",
       "</table>\n",
       "</div>"
      ],
      "text/plain": [
       "           invoice_number    payment_code       payment_date_ihub  \\\n",
       "384  010.643.24-01.000566  12409731015011 2025-09-27 13:51:59.995   \n",
       "\n",
       "             flagging_praya        sap_send_log status  \\\n",
       "384 2025-09-27 20:52:02.995 2025-09-27 20:53:04   PAID   \n",
       "\n",
       "               sap_complete flagging_praya_delay   sap_send_delay  \\\n",
       "384 2025-09-27 20:53:07.995      0 days 00:00:12 52 days 01:13:45   \n",
       "\n",
       "    sap_nofaktur_generate_time total_time_to_print_invoice  \n",
       "384            0 days 00:00:06            52 days 01:14:03  "
      ]
     },
     "execution_count": 15,
     "metadata": {},
     "output_type": "execute_result"
    }
   ],
   "source": [
    "df_pay[df_pay['invoice_number'] == '010.643.24-01.000566']"
   ]
  },
  {
   "cell_type": "markdown",
   "metadata": {},
   "source": [
    "**findings**: terdapat data yang terduplikasi pada df_ori dengan invoice_number yang sama dengan data di df_pay, yaitu data dengan invoice number `010.643.24-01.000566`. Namun, dua data tersebut secara keseluruhan hampir memiliki value yang sama untuk tiap parameter dan hanya berbeda pada value untuk parameter **sap_send_log**.\n",
    "\n",
    "Ditemukan juga data tidak sinkron atau ada kesalahan pada input data payment_date_ihub, flagging_praya, sap_send_log, an sap_complete. Seharusnya data pada df_ori dan df_pay yang memiliki invoice number yang sama, maka akan memiliki nilai yang sama pada kolom yang disebutkan sebelumnya. "
   ]
  },
  {
   "cell_type": "code",
   "execution_count": 16,
   "metadata": {},
   "outputs": [
    {
     "data": {
      "text/plain": [
       "payment_code\n",
       "False    9469\n",
       "True        1\n",
       "Name: count, dtype: int64"
      ]
     },
     "execution_count": 16,
     "metadata": {},
     "output_type": "execute_result"
    }
   ],
   "source": [
    "df_ori['payment_code'].isin(df_pay['payment_code']).value_counts()"
   ]
  },
  {
   "cell_type": "code",
   "execution_count": 17,
   "metadata": {},
   "outputs": [
    {
     "data": {
      "text/html": [
       "<div>\n",
       "<style scoped>\n",
       "    .dataframe tbody tr th:only-of-type {\n",
       "        vertical-align: middle;\n",
       "    }\n",
       "\n",
       "    .dataframe tbody tr th {\n",
       "        vertical-align: top;\n",
       "    }\n",
       "\n",
       "    .dataframe thead th {\n",
       "        text-align: right;\n",
       "    }\n",
       "</style>\n",
       "<table border=\"1\" class=\"dataframe\">\n",
       "  <thead>\n",
       "    <tr style=\"text-align: right;\">\n",
       "      <th></th>\n",
       "      <th>invoice_number</th>\n",
       "      <th>no_integration_sap</th>\n",
       "      <th>doc_no_sap</th>\n",
       "      <th>payment_code</th>\n",
       "      <th>payment_date_ihub</th>\n",
       "      <th>flagging_praya</th>\n",
       "      <th>sap_send_log</th>\n",
       "      <th>status</th>\n",
       "      <th>sap_complete</th>\n",
       "      <th>faktur_sap</th>\n",
       "      <th>selisih_sap_dan_flagging_pray</th>\n",
       "      <th>kategori_selisih_sap_dan_fragging</th>\n",
       "      <th>selisih_fragging_dan_payment_date</th>\n",
       "      <th>kategori_selisih_fragging_dan_payment_date</th>\n",
       "    </tr>\n",
       "  </thead>\n",
       "  <tbody>\n",
       "    <tr>\n",
       "      <th>6</th>\n",
       "      <td>010.182.24-01.011686</td>\n",
       "      <td>I480099407/2024</td>\n",
       "      <td>9800098239/2024-3000</td>\n",
       "      <td>12409731015011</td>\n",
       "      <td>2024-09-08 13:52:00</td>\n",
       "      <td>2024-09-08 20:52:03</td>\n",
       "      <td>2024-09-08 20:53:04</td>\n",
       "      <td>PAID</td>\n",
       "      <td>2024-09-08 20:53:08</td>\n",
       "      <td>010.30112.24.00011044</td>\n",
       "      <td>1.016667</td>\n",
       "      <td>&gt;1 MENIT</td>\n",
       "      <td>0.05</td>\n",
       "      <td>&lt;1 MENIT</td>\n",
       "    </tr>\n",
       "  </tbody>\n",
       "</table>\n",
       "</div>"
      ],
      "text/plain": [
       "         invoice_number no_integration_sap            doc_no_sap  \\\n",
       "6  010.182.24-01.011686    I480099407/2024  9800098239/2024-3000   \n",
       "\n",
       "     payment_code   payment_date_ihub      flagging_praya        sap_send_log  \\\n",
       "6  12409731015011 2024-09-08 13:52:00 2024-09-08 20:52:03 2024-09-08 20:53:04   \n",
       "\n",
       "  status        sap_complete             faktur_sap  \\\n",
       "6   PAID 2024-09-08 20:53:08  010.30112.24.00011044   \n",
       "\n",
       "   selisih_sap_dan_flagging_pray kategori_selisih_sap_dan_fragging  \\\n",
       "6                       1.016667                          >1 MENIT   \n",
       "\n",
       "   selisih_fragging_dan_payment_date  \\\n",
       "6                               0.05   \n",
       "\n",
       "  kategori_selisih_fragging_dan_payment_date  \n",
       "6                                   <1 MENIT  "
      ]
     },
     "execution_count": 17,
     "metadata": {},
     "output_type": "execute_result"
    }
   ],
   "source": [
    "df_ori[df_ori['payment_code'].isin(df_pay['payment_code'])]"
   ]
  },
  {
   "cell_type": "code",
   "execution_count": 18,
   "metadata": {},
   "outputs": [
    {
     "data": {
      "text/html": [
       "<div>\n",
       "<style scoped>\n",
       "    .dataframe tbody tr th:only-of-type {\n",
       "        vertical-align: middle;\n",
       "    }\n",
       "\n",
       "    .dataframe tbody tr th {\n",
       "        vertical-align: top;\n",
       "    }\n",
       "\n",
       "    .dataframe thead th {\n",
       "        text-align: right;\n",
       "    }\n",
       "</style>\n",
       "<table border=\"1\" class=\"dataframe\">\n",
       "  <thead>\n",
       "    <tr style=\"text-align: right;\">\n",
       "      <th></th>\n",
       "      <th>invoice_number</th>\n",
       "      <th>payment_code</th>\n",
       "      <th>payment_date_ihub</th>\n",
       "      <th>flagging_praya</th>\n",
       "      <th>sap_send_log</th>\n",
       "      <th>status</th>\n",
       "      <th>sap_complete</th>\n",
       "      <th>flagging_praya_delay</th>\n",
       "      <th>sap_send_delay</th>\n",
       "      <th>sap_nofaktur_generate_time</th>\n",
       "      <th>total_time_to_print_invoice</th>\n",
       "    </tr>\n",
       "  </thead>\n",
       "  <tbody>\n",
       "    <tr>\n",
       "      <th>0</th>\n",
       "      <td>010.182.24-01.011686</td>\n",
       "      <td>12409731015011</td>\n",
       "      <td>2024-09-08 13:52:00</td>\n",
       "      <td>2024-09-08 20:52:03</td>\n",
       "      <td>2024-09-08 20:53:04</td>\n",
       "      <td>PAID</td>\n",
       "      <td>2024-09-08 20:53:08</td>\n",
       "      <td>0 days 00:00:03</td>\n",
       "      <td>0 days 00:01:01</td>\n",
       "      <td>0 days 00:00:04</td>\n",
       "      <td>0 days 00:01:08</td>\n",
       "    </tr>\n",
       "  </tbody>\n",
       "</table>\n",
       "</div>"
      ],
      "text/plain": [
       "         invoice_number    payment_code   payment_date_ihub  \\\n",
       "0  010.182.24-01.011686  12409731015011 2024-09-08 13:52:00   \n",
       "\n",
       "       flagging_praya        sap_send_log status        sap_complete  \\\n",
       "0 2024-09-08 20:52:03 2024-09-08 20:53:04   PAID 2024-09-08 20:53:08   \n",
       "\n",
       "  flagging_praya_delay  sap_send_delay sap_nofaktur_generate_time  \\\n",
       "0      0 days 00:00:03 0 days 00:01:01            0 days 00:00:04   \n",
       "\n",
       "  total_time_to_print_invoice  \n",
       "0             0 days 00:01:08  "
      ]
     },
     "execution_count": 18,
     "metadata": {},
     "output_type": "execute_result"
    }
   ],
   "source": [
    "df_pay.loc[(df_pay['payment_code'] == 12409731015011) & (df_pay['invoice_number'] == '010.182.24-01.011686')]"
   ]
  },
  {
   "cell_type": "code",
   "execution_count": 19,
   "metadata": {},
   "outputs": [
    {
     "data": {
      "text/html": [
       "<div>\n",
       "<style scoped>\n",
       "    .dataframe tbody tr th:only-of-type {\n",
       "        vertical-align: middle;\n",
       "    }\n",
       "\n",
       "    .dataframe tbody tr th {\n",
       "        vertical-align: top;\n",
       "    }\n",
       "\n",
       "    .dataframe thead th {\n",
       "        text-align: right;\n",
       "    }\n",
       "</style>\n",
       "<table border=\"1\" class=\"dataframe\">\n",
       "  <thead>\n",
       "    <tr style=\"text-align: right;\">\n",
       "      <th></th>\n",
       "      <th>invoice_number</th>\n",
       "      <th>no_integration_sap</th>\n",
       "      <th>doc_no_sap</th>\n",
       "      <th>payment_code</th>\n",
       "      <th>payment_date_ihub</th>\n",
       "      <th>flagging_praya</th>\n",
       "      <th>sap_send_log</th>\n",
       "      <th>status</th>\n",
       "      <th>sap_complete</th>\n",
       "      <th>faktur_sap</th>\n",
       "      <th>selisih_sap_dan_flagging_pray</th>\n",
       "      <th>kategori_selisih_sap_dan_fragging</th>\n",
       "      <th>selisih_fragging_dan_payment_date</th>\n",
       "      <th>kategori_selisih_fragging_dan_payment_date</th>\n",
       "    </tr>\n",
       "  </thead>\n",
       "  <tbody>\n",
       "    <tr>\n",
       "      <th>6</th>\n",
       "      <td>010.182.24-01.011686</td>\n",
       "      <td>I480099407/2024</td>\n",
       "      <td>9800098239/2024-3000</td>\n",
       "      <td>12409731015011</td>\n",
       "      <td>2024-09-08 13:52:00</td>\n",
       "      <td>2024-09-08 20:52:03</td>\n",
       "      <td>2024-09-08 20:53:04</td>\n",
       "      <td>PAID</td>\n",
       "      <td>2024-09-08 20:53:08</td>\n",
       "      <td>010.30112.24.00011044</td>\n",
       "      <td>1.016667</td>\n",
       "      <td>&gt;1 MENIT</td>\n",
       "      <td>0.05</td>\n",
       "      <td>&lt;1 MENIT</td>\n",
       "    </tr>\n",
       "  </tbody>\n",
       "</table>\n",
       "</div>"
      ],
      "text/plain": [
       "         invoice_number no_integration_sap            doc_no_sap  \\\n",
       "6  010.182.24-01.011686    I480099407/2024  9800098239/2024-3000   \n",
       "\n",
       "     payment_code   payment_date_ihub      flagging_praya        sap_send_log  \\\n",
       "6  12409731015011 2024-09-08 13:52:00 2024-09-08 20:52:03 2024-09-08 20:53:04   \n",
       "\n",
       "  status        sap_complete             faktur_sap  \\\n",
       "6   PAID 2024-09-08 20:53:08  010.30112.24.00011044   \n",
       "\n",
       "   selisih_sap_dan_flagging_pray kategori_selisih_sap_dan_fragging  \\\n",
       "6                       1.016667                          >1 MENIT   \n",
       "\n",
       "   selisih_fragging_dan_payment_date  \\\n",
       "6                               0.05   \n",
       "\n",
       "  kategori_selisih_fragging_dan_payment_date  \n",
       "6                                   <1 MENIT  "
      ]
     },
     "execution_count": 19,
     "metadata": {},
     "output_type": "execute_result"
    }
   ],
   "source": [
    "df_ori[df_ori['invoice_number'] == '010.182.24-01.011686']"
   ]
  },
  {
   "cell_type": "markdown",
   "metadata": {},
   "source": [
    "**findings**: Terdapat satu data pada df_ori yang memiliki nilai payment_code yang sama dengan data pada df_pay. Kedua data tersebut juga memiliki nilai invoice_number yang sama."
   ]
  },
  {
   "cell_type": "code",
   "execution_count": 20,
   "metadata": {},
   "outputs": [
    {
     "data": {
      "text/plain": [
       "Index(['invoice_number', 'payment_code', 'payment_date_ihub', 'flagging_praya',\n",
       "       'sap_send_log', 'status', 'sap_complete', 'flagging_praya_delay',\n",
       "       'sap_send_delay', 'sap_nofaktur_generate_time',\n",
       "       'total_time_to_print_invoice'],\n",
       "      dtype='object')"
      ]
     },
     "execution_count": 20,
     "metadata": {},
     "output_type": "execute_result"
    }
   ],
   "source": [
    "df_pay.columns"
   ]
  },
  {
   "cell_type": "code",
   "execution_count": 21,
   "metadata": {},
   "outputs": [
    {
     "data": {
      "text/plain": [
       "(590, 11)"
      ]
     },
     "execution_count": 21,
     "metadata": {},
     "output_type": "execute_result"
    }
   ],
   "source": [
    "df_pay.shape"
   ]
  },
  {
   "cell_type": "code",
   "execution_count": 22,
   "metadata": {},
   "outputs": [
    {
     "name": "stdout",
     "output_type": "stream",
     "text": [
      "invoice_number: 590\n",
      "payment_code: 1\n",
      "payment_date_ihub: 590\n",
      "flagging_praya: 590\n",
      "sap_send_log: 590\n",
      "status: 1\n",
      "sap_complete: 590\n",
      "flagging_praya_delay: 49\n",
      "sap_send_delay: 50\n",
      "sap_nofaktur_generate_time: 70\n",
      "total_time_to_print_invoice: 128\n"
     ]
    }
   ],
   "source": [
    "for col in df_pay.columns:\n",
    "    unique_count = df_pay[col].nunique()\n",
    "    print(f\"{col}: {unique_count}\")"
   ]
  },
  {
   "cell_type": "markdown",
   "metadata": {},
   "source": [
    "**findings**: pada hasil unique untuk df_pay, payment_code dan status hanya memiliki satu value unique yang tidak akan mempengaruhi analisis."
   ]
  },
  {
   "cell_type": "code",
   "execution_count": 23,
   "metadata": {},
   "outputs": [
    {
     "data": {
      "text/plain": [
       "Index(['invoice_number', 'no_integration_sap', 'doc_no_sap', 'payment_code',\n",
       "       'payment_date_ihub', 'flagging_praya', 'sap_send_log', 'status',\n",
       "       'sap_complete', 'faktur_sap', 'selisih_sap_dan_flagging_pray',\n",
       "       'kategori_selisih_sap_dan_fragging',\n",
       "       'selisih_fragging_dan_payment_date',\n",
       "       'kategori_selisih_fragging_dan_payment_date'],\n",
       "      dtype='object')"
      ]
     },
     "execution_count": 23,
     "metadata": {},
     "output_type": "execute_result"
    }
   ],
   "source": [
    "df_ori.columns"
   ]
  },
  {
   "cell_type": "code",
   "execution_count": 24,
   "metadata": {},
   "outputs": [
    {
     "data": {
      "text/plain": [
       "(9470, 14)"
      ]
     },
     "execution_count": 24,
     "metadata": {},
     "output_type": "execute_result"
    }
   ],
   "source": [
    "df_ori.shape"
   ]
  },
  {
   "cell_type": "code",
   "execution_count": 25,
   "metadata": {},
   "outputs": [
    {
     "name": "stdout",
     "output_type": "stream",
     "text": [
      "invoice_number: 9469\n",
      "no_integration_sap: 9469\n",
      "doc_no_sap: 9469\n",
      "payment_code: 9469\n",
      "payment_date_ihub: 5210\n",
      "flagging_praya: 8783\n",
      "sap_send_log: 8465\n",
      "status: 1\n",
      "sap_complete: 9312\n",
      "faktur_sap: 9469\n",
      "selisih_sap_dan_flagging_pray: 311\n",
      "kategori_selisih_sap_dan_fragging: 4\n",
      "selisih_fragging_dan_payment_date: 127\n",
      "kategori_selisih_fragging_dan_payment_date: 3\n"
     ]
    }
   ],
   "source": [
    "for col in df_ori.columns:\n",
    "    unique_count = df_ori[col].nunique()\n",
    "    print(f\"{col}: {unique_count}\")"
   ]
  },
  {
   "cell_type": "markdown",
   "metadata": {},
   "source": [
    "**findings**: pada hasil unique untuk df_ori, status hanya memiliki satu value unique yang tidak akan mempengaruhi analisis."
   ]
  },
  {
   "cell_type": "code",
   "execution_count": 26,
   "metadata": {},
   "outputs": [],
   "source": [
    "columns_to_update = ['flagging_praya', 'payment_code', 'payment_date_ihub', 'sap_send_log', 'sap_complete']\n",
    "\n",
    "df_pay_updated = df_pay.merge(df_ori[['invoice_number'] + columns_to_update], on='invoice_number', how='left', suffixes=('', '_ori'))\n",
    "\n",
    "for col in columns_to_update:\n",
    "    df_pay_updated[col] = df_pay_updated[f'{col}_ori'].combine_first(df_pay_updated[col])\n",
    "\n",
    "df_pay_updated = df_pay_updated.drop(columns=[f'{col}_ori' for col in columns_to_update])\n"
   ]
  },
  {
   "cell_type": "code",
   "execution_count": 27,
   "metadata": {},
   "outputs": [
    {
     "data": {
      "text/html": [
       "<div>\n",
       "<style scoped>\n",
       "    .dataframe tbody tr th:only-of-type {\n",
       "        vertical-align: middle;\n",
       "    }\n",
       "\n",
       "    .dataframe tbody tr th {\n",
       "        vertical-align: top;\n",
       "    }\n",
       "\n",
       "    .dataframe thead th {\n",
       "        text-align: right;\n",
       "    }\n",
       "</style>\n",
       "<table border=\"1\" class=\"dataframe\">\n",
       "  <thead>\n",
       "    <tr style=\"text-align: right;\">\n",
       "      <th></th>\n",
       "      <th>invoice_number</th>\n",
       "      <th>payment_code</th>\n",
       "      <th>payment_date_ihub</th>\n",
       "      <th>flagging_praya</th>\n",
       "      <th>sap_send_log</th>\n",
       "      <th>status</th>\n",
       "      <th>sap_complete</th>\n",
       "      <th>flagging_praya_delay</th>\n",
       "      <th>sap_send_delay</th>\n",
       "      <th>sap_nofaktur_generate_time</th>\n",
       "      <th>total_time_to_print_invoice</th>\n",
       "    </tr>\n",
       "  </thead>\n",
       "  <tbody>\n",
       "    <tr>\n",
       "      <th>558</th>\n",
       "      <td>000.184.24-77.011063</td>\n",
       "      <td>12409730987248</td>\n",
       "      <td>2024-09-02 06:11:00</td>\n",
       "      <td>2024-09-02 13:11:08</td>\n",
       "      <td>2024-09-02 13:12:08</td>\n",
       "      <td>PAID</td>\n",
       "      <td>2024-09-02 13:12:25</td>\n",
       "      <td>0 days 00:00:08</td>\n",
       "      <td>0 days 00:01:00</td>\n",
       "      <td>0 days 00:00:17</td>\n",
       "      <td>0 days 00:01:25</td>\n",
       "    </tr>\n",
       "    <tr>\n",
       "      <th>126</th>\n",
       "      <td>010.183.24-73.062337</td>\n",
       "      <td>12409731007551</td>\n",
       "      <td>2024-09-06 06:07:00</td>\n",
       "      <td>2024-09-06 13:07:03</td>\n",
       "      <td>2024-09-06 13:08:03</td>\n",
       "      <td>PAID</td>\n",
       "      <td>2024-09-06 13:08:06</td>\n",
       "      <td>0 days 00:00:03</td>\n",
       "      <td>0 days 00:01:00</td>\n",
       "      <td>0 days 00:00:03</td>\n",
       "      <td>0 days 00:01:06</td>\n",
       "    </tr>\n",
       "    <tr>\n",
       "      <th>87</th>\n",
       "      <td>010.183.24-74.039277</td>\n",
       "      <td>12409731010304</td>\n",
       "      <td>2024-09-06 13:32:00</td>\n",
       "      <td>2024-09-06 20:32:06</td>\n",
       "      <td>2024-09-06 20:33:14</td>\n",
       "      <td>PAID</td>\n",
       "      <td>2024-09-06 20:33:18</td>\n",
       "      <td>0 days 00:00:06</td>\n",
       "      <td>0 days 00:01:08</td>\n",
       "      <td>0 days 00:00:04</td>\n",
       "      <td>0 days 00:01:18</td>\n",
       "    </tr>\n",
       "    <tr>\n",
       "      <th>535</th>\n",
       "      <td>000.184.24-77.011092</td>\n",
       "      <td>12409730992623</td>\n",
       "      <td>2024-09-03 04:00:00</td>\n",
       "      <td>2024-09-03 11:00:03</td>\n",
       "      <td>2024-09-03 11:01:06</td>\n",
       "      <td>PAID</td>\n",
       "      <td>2024-09-03 11:01:11</td>\n",
       "      <td>0 days 00:00:03</td>\n",
       "      <td>0 days 00:01:03</td>\n",
       "      <td>0 days 00:00:05</td>\n",
       "      <td>0 days 00:01:11</td>\n",
       "    </tr>\n",
       "    <tr>\n",
       "      <th>409</th>\n",
       "      <td>010.183.24-74.038310</td>\n",
       "      <td>12409730984841</td>\n",
       "      <td>2024-09-01 08:17:00</td>\n",
       "      <td>2024-09-01 15:17:02</td>\n",
       "      <td>2024-09-01 15:18:03</td>\n",
       "      <td>PAID</td>\n",
       "      <td>2024-09-01 15:18:06</td>\n",
       "      <td>0 days 00:00:02</td>\n",
       "      <td>0 days 00:01:01</td>\n",
       "      <td>0 days 00:00:03</td>\n",
       "      <td>0 days 00:01:06</td>\n",
       "    </tr>\n",
       "  </tbody>\n",
       "</table>\n",
       "</div>"
      ],
      "text/plain": [
       "           invoice_number    payment_code   payment_date_ihub  \\\n",
       "558  000.184.24-77.011063  12409730987248 2024-09-02 06:11:00   \n",
       "126  010.183.24-73.062337  12409731007551 2024-09-06 06:07:00   \n",
       "87   010.183.24-74.039277  12409731010304 2024-09-06 13:32:00   \n",
       "535  000.184.24-77.011092  12409730992623 2024-09-03 04:00:00   \n",
       "409  010.183.24-74.038310  12409730984841 2024-09-01 08:17:00   \n",
       "\n",
       "         flagging_praya        sap_send_log status        sap_complete  \\\n",
       "558 2024-09-02 13:11:08 2024-09-02 13:12:08   PAID 2024-09-02 13:12:25   \n",
       "126 2024-09-06 13:07:03 2024-09-06 13:08:03   PAID 2024-09-06 13:08:06   \n",
       "87  2024-09-06 20:32:06 2024-09-06 20:33:14   PAID 2024-09-06 20:33:18   \n",
       "535 2024-09-03 11:00:03 2024-09-03 11:01:06   PAID 2024-09-03 11:01:11   \n",
       "409 2024-09-01 15:17:02 2024-09-01 15:18:03   PAID 2024-09-01 15:18:06   \n",
       "\n",
       "    flagging_praya_delay  sap_send_delay sap_nofaktur_generate_time  \\\n",
       "558      0 days 00:00:08 0 days 00:01:00            0 days 00:00:17   \n",
       "126      0 days 00:00:03 0 days 00:01:00            0 days 00:00:03   \n",
       "87       0 days 00:00:06 0 days 00:01:08            0 days 00:00:04   \n",
       "535      0 days 00:00:03 0 days 00:01:03            0 days 00:00:05   \n",
       "409      0 days 00:00:02 0 days 00:01:01            0 days 00:00:03   \n",
       "\n",
       "    total_time_to_print_invoice  \n",
       "558             0 days 00:01:25  \n",
       "126             0 days 00:01:06  \n",
       "87              0 days 00:01:18  \n",
       "535             0 days 00:01:11  \n",
       "409             0 days 00:01:06  "
      ]
     },
     "execution_count": 27,
     "metadata": {},
     "output_type": "execute_result"
    }
   ],
   "source": [
    "df_pay_updated.sample(5)"
   ]
  },
  {
   "cell_type": "code",
   "execution_count": 28,
   "metadata": {},
   "outputs": [
    {
     "data": {
      "text/plain": [
       "(591, 11)"
      ]
     },
     "execution_count": 28,
     "metadata": {},
     "output_type": "execute_result"
    }
   ],
   "source": [
    "df_pay_updated.shape"
   ]
  },
  {
   "cell_type": "code",
   "execution_count": 29,
   "metadata": {},
   "outputs": [
    {
     "data": {
      "text/html": [
       "<div>\n",
       "<style scoped>\n",
       "    .dataframe tbody tr th:only-of-type {\n",
       "        vertical-align: middle;\n",
       "    }\n",
       "\n",
       "    .dataframe tbody tr th {\n",
       "        vertical-align: top;\n",
       "    }\n",
       "\n",
       "    .dataframe thead th {\n",
       "        text-align: right;\n",
       "    }\n",
       "</style>\n",
       "<table border=\"1\" class=\"dataframe\">\n",
       "  <thead>\n",
       "    <tr style=\"text-align: right;\">\n",
       "      <th></th>\n",
       "      <th>invoice_number</th>\n",
       "      <th>payment_code</th>\n",
       "      <th>payment_date_ihub</th>\n",
       "      <th>flagging_praya</th>\n",
       "      <th>sap_send_log</th>\n",
       "      <th>status</th>\n",
       "      <th>sap_complete</th>\n",
       "      <th>flagging_praya_delay</th>\n",
       "      <th>sap_send_delay</th>\n",
       "      <th>sap_nofaktur_generate_time</th>\n",
       "      <th>total_time_to_print_invoice</th>\n",
       "    </tr>\n",
       "  </thead>\n",
       "  <tbody>\n",
       "    <tr>\n",
       "      <th>384</th>\n",
       "      <td>010.643.24-01.000566</td>\n",
       "      <td>12409731015011</td>\n",
       "      <td>2025-09-27 13:51:59.995</td>\n",
       "      <td>2025-09-27 20:52:02.995</td>\n",
       "      <td>2025-09-27 20:53:04</td>\n",
       "      <td>PAID</td>\n",
       "      <td>2025-09-27 20:53:07.995</td>\n",
       "      <td>0 days 00:00:12</td>\n",
       "      <td>52 days 01:13:45</td>\n",
       "      <td>0 days 00:00:06</td>\n",
       "      <td>52 days 01:14:03</td>\n",
       "    </tr>\n",
       "  </tbody>\n",
       "</table>\n",
       "</div>"
      ],
      "text/plain": [
       "           invoice_number    payment_code       payment_date_ihub  \\\n",
       "384  010.643.24-01.000566  12409731015011 2025-09-27 13:51:59.995   \n",
       "\n",
       "             flagging_praya        sap_send_log status  \\\n",
       "384 2025-09-27 20:52:02.995 2025-09-27 20:53:04   PAID   \n",
       "\n",
       "               sap_complete flagging_praya_delay   sap_send_delay  \\\n",
       "384 2025-09-27 20:53:07.995      0 days 00:00:12 52 days 01:13:45   \n",
       "\n",
       "    sap_nofaktur_generate_time total_time_to_print_invoice  \n",
       "384            0 days 00:00:06            52 days 01:14:03  "
      ]
     },
     "execution_count": 29,
     "metadata": {},
     "output_type": "execute_result"
    }
   ],
   "source": [
    "df_pay[df_pay['invoice_number'] == '010.643.24-01.000566']"
   ]
  },
  {
   "cell_type": "code",
   "execution_count": 30,
   "metadata": {},
   "outputs": [
    {
     "data": {
      "text/html": [
       "<div>\n",
       "<style scoped>\n",
       "    .dataframe tbody tr th:only-of-type {\n",
       "        vertical-align: middle;\n",
       "    }\n",
       "\n",
       "    .dataframe tbody tr th {\n",
       "        vertical-align: top;\n",
       "    }\n",
       "\n",
       "    .dataframe thead th {\n",
       "        text-align: right;\n",
       "    }\n",
       "</style>\n",
       "<table border=\"1\" class=\"dataframe\">\n",
       "  <thead>\n",
       "    <tr style=\"text-align: right;\">\n",
       "      <th></th>\n",
       "      <th>invoice_number</th>\n",
       "      <th>payment_code</th>\n",
       "      <th>payment_date_ihub</th>\n",
       "      <th>flagging_praya</th>\n",
       "      <th>sap_send_log</th>\n",
       "      <th>status</th>\n",
       "      <th>sap_complete</th>\n",
       "      <th>flagging_praya_delay</th>\n",
       "      <th>sap_send_delay</th>\n",
       "      <th>sap_nofaktur_generate_time</th>\n",
       "      <th>total_time_to_print_invoice</th>\n",
       "    </tr>\n",
       "  </thead>\n",
       "  <tbody>\n",
       "    <tr>\n",
       "      <th>384</th>\n",
       "      <td>010.643.24-01.000566</td>\n",
       "      <td>12407730765658</td>\n",
       "      <td>2024-07-12 02:43:00</td>\n",
       "      <td>2024-07-12 09:43:12</td>\n",
       "      <td>2024-07-12 09:43:44</td>\n",
       "      <td>PAID</td>\n",
       "      <td>2024-09-02 10:57:03</td>\n",
       "      <td>0 days 00:00:12</td>\n",
       "      <td>52 days 01:13:45</td>\n",
       "      <td>0 days 00:00:06</td>\n",
       "      <td>52 days 01:14:03</td>\n",
       "    </tr>\n",
       "    <tr>\n",
       "      <th>385</th>\n",
       "      <td>010.643.24-01.000566</td>\n",
       "      <td>12407730765658</td>\n",
       "      <td>2024-07-12 02:43:00</td>\n",
       "      <td>2024-07-12 09:43:12</td>\n",
       "      <td>2024-09-02 10:56:57</td>\n",
       "      <td>PAID</td>\n",
       "      <td>2024-09-02 10:57:03</td>\n",
       "      <td>0 days 00:00:12</td>\n",
       "      <td>52 days 01:13:45</td>\n",
       "      <td>0 days 00:00:06</td>\n",
       "      <td>52 days 01:14:03</td>\n",
       "    </tr>\n",
       "  </tbody>\n",
       "</table>\n",
       "</div>"
      ],
      "text/plain": [
       "           invoice_number    payment_code   payment_date_ihub  \\\n",
       "384  010.643.24-01.000566  12407730765658 2024-07-12 02:43:00   \n",
       "385  010.643.24-01.000566  12407730765658 2024-07-12 02:43:00   \n",
       "\n",
       "         flagging_praya        sap_send_log status        sap_complete  \\\n",
       "384 2024-07-12 09:43:12 2024-07-12 09:43:44   PAID 2024-09-02 10:57:03   \n",
       "385 2024-07-12 09:43:12 2024-09-02 10:56:57   PAID 2024-09-02 10:57:03   \n",
       "\n",
       "    flagging_praya_delay   sap_send_delay sap_nofaktur_generate_time  \\\n",
       "384      0 days 00:00:12 52 days 01:13:45            0 days 00:00:06   \n",
       "385      0 days 00:00:12 52 days 01:13:45            0 days 00:00:06   \n",
       "\n",
       "    total_time_to_print_invoice  \n",
       "384            52 days 01:14:03  \n",
       "385            52 days 01:14:03  "
      ]
     },
     "execution_count": 30,
     "metadata": {},
     "output_type": "execute_result"
    }
   ],
   "source": [
    "df_pay_updated[df_pay_updated['invoice_number'] == '010.643.24-01.000566']"
   ]
  },
  {
   "cell_type": "markdown",
   "metadata": {},
   "source": [
    "**findings**: setelah dilakukan merge untuk kolom `flagging_praya`, `payment_code`, `payment_date_ihub`, `sap_send_log`, `sap_complete` berdasarkan invoice number yang sama dari df_ori ke df_pay, jumlah data pada df_pay bertambah menjadi 591. Hal ini disebabkan karena sebelumnya terdapat dua data yang sama pada df_ori dengan df_pay berdasarkan invoice number. Sehingga, data dengan `invoice_number` = `010.643.24-01.000566` menjadi terduplikasi."
   ]
  },
  {
   "cell_type": "code",
   "execution_count": 31,
   "metadata": {},
   "outputs": [
    {
     "data": {
      "text/html": [
       "<div>\n",
       "<style scoped>\n",
       "    .dataframe tbody tr th:only-of-type {\n",
       "        vertical-align: middle;\n",
       "    }\n",
       "\n",
       "    .dataframe tbody tr th {\n",
       "        vertical-align: top;\n",
       "    }\n",
       "\n",
       "    .dataframe thead th {\n",
       "        text-align: right;\n",
       "    }\n",
       "</style>\n",
       "<table border=\"1\" class=\"dataframe\">\n",
       "  <thead>\n",
       "    <tr style=\"text-align: right;\">\n",
       "      <th></th>\n",
       "      <th>invoice_number</th>\n",
       "      <th>sap_complete</th>\n",
       "      <th>sap_send_log</th>\n",
       "      <th>difference</th>\n",
       "    </tr>\n",
       "  </thead>\n",
       "  <tbody>\n",
       "    <tr>\n",
       "      <th>384</th>\n",
       "      <td>010.643.24-01.000566</td>\n",
       "      <td>2024-09-02 10:57:03</td>\n",
       "      <td>2024-07-12 09:43:44</td>\n",
       "      <td>52 days 01:13:19</td>\n",
       "    </tr>\n",
       "    <tr>\n",
       "      <th>385</th>\n",
       "      <td>010.643.24-01.000566</td>\n",
       "      <td>2024-09-02 10:57:03</td>\n",
       "      <td>2024-09-02 10:56:57</td>\n",
       "      <td>0 days 00:00:06</td>\n",
       "    </tr>\n",
       "  </tbody>\n",
       "</table>\n",
       "</div>"
      ],
      "text/plain": [
       "           invoice_number        sap_complete        sap_send_log  \\\n",
       "384  010.643.24-01.000566 2024-09-02 10:57:03 2024-07-12 09:43:44   \n",
       "385  010.643.24-01.000566 2024-09-02 10:57:03 2024-09-02 10:56:57   \n",
       "\n",
       "          difference  \n",
       "384 52 days 01:13:19  \n",
       "385  0 days 00:00:06  "
      ]
     },
     "execution_count": 31,
     "metadata": {},
     "output_type": "execute_result"
    }
   ],
   "source": [
    "df_pay_temp = df_pay_updated.copy()\n",
    "df_pay_temp['difference'] = df_pay_temp['sap_complete'] - df_pay_temp['sap_send_log']\n",
    "\n",
    "# Tampilkan hasil\n",
    "df_pay_temp[df_pay_temp['invoice_number'] == '010.643.24-01.000566'][['invoice_number', 'sap_complete', 'sap_send_log', 'difference']]"
   ]
  },
  {
   "cell_type": "code",
   "execution_count": 32,
   "metadata": {},
   "outputs": [
    {
     "data": {
      "text/html": [
       "<div>\n",
       "<style scoped>\n",
       "    .dataframe tbody tr th:only-of-type {\n",
       "        vertical-align: middle;\n",
       "    }\n",
       "\n",
       "    .dataframe tbody tr th {\n",
       "        vertical-align: top;\n",
       "    }\n",
       "\n",
       "    .dataframe thead th {\n",
       "        text-align: right;\n",
       "    }\n",
       "</style>\n",
       "<table border=\"1\" class=\"dataframe\">\n",
       "  <thead>\n",
       "    <tr style=\"text-align: right;\">\n",
       "      <th></th>\n",
       "      <th>invoice_number</th>\n",
       "      <th>payment_code</th>\n",
       "      <th>payment_date_ihub</th>\n",
       "      <th>flagging_praya</th>\n",
       "      <th>sap_send_log</th>\n",
       "      <th>status</th>\n",
       "      <th>sap_complete</th>\n",
       "      <th>flagging_praya_delay</th>\n",
       "      <th>sap_send_delay</th>\n",
       "      <th>sap_nofaktur_generate_time</th>\n",
       "      <th>total_time_to_print_invoice</th>\n",
       "      <th>difference</th>\n",
       "    </tr>\n",
       "  </thead>\n",
       "  <tbody>\n",
       "    <tr>\n",
       "      <th>108</th>\n",
       "      <td>010.183.24-73.062417</td>\n",
       "      <td>12409731009290</td>\n",
       "      <td>2024-09-06 08:40:00</td>\n",
       "      <td>2024-09-06 15:40:01</td>\n",
       "      <td>2024-09-06 15:41:02</td>\n",
       "      <td>PAID</td>\n",
       "      <td>2024-09-06 15:41:06</td>\n",
       "      <td>0 days 00:00:01</td>\n",
       "      <td>0 days 00:01:01</td>\n",
       "      <td>0 days 00:00:04</td>\n",
       "      <td>0 days 00:01:06</td>\n",
       "      <td>0 days 00:00:04</td>\n",
       "    </tr>\n",
       "    <tr>\n",
       "      <th>466</th>\n",
       "      <td>000.184.24-74.027891</td>\n",
       "      <td>12409731006066</td>\n",
       "      <td>2024-09-06 03:27:00</td>\n",
       "      <td>2024-09-06 10:27:00</td>\n",
       "      <td>2024-09-06 10:28:05</td>\n",
       "      <td>PAID</td>\n",
       "      <td>2024-09-06 10:28:08</td>\n",
       "      <td>0 days 00:00:00</td>\n",
       "      <td>0 days 00:01:05</td>\n",
       "      <td>0 days 00:00:03</td>\n",
       "      <td>0 days 00:01:08</td>\n",
       "      <td>0 days 00:00:03</td>\n",
       "    </tr>\n",
       "    <tr>\n",
       "      <th>376</th>\n",
       "      <td>010.183.24-73.051838</td>\n",
       "      <td>12407730843413</td>\n",
       "      <td>2024-07-30 08:36:00</td>\n",
       "      <td>2024-07-30 15:36:16</td>\n",
       "      <td>2024-09-02 13:01:01</td>\n",
       "      <td>PAID</td>\n",
       "      <td>2024-09-02 13:01:08</td>\n",
       "      <td>0 days 00:00:16</td>\n",
       "      <td>33 days 21:24:45</td>\n",
       "      <td>0 days 00:00:07</td>\n",
       "      <td>33 days 21:25:08</td>\n",
       "      <td>0 days 00:00:07</td>\n",
       "    </tr>\n",
       "    <tr>\n",
       "      <th>184</th>\n",
       "      <td>010.183.24-74.038921</td>\n",
       "      <td>12409731000898</td>\n",
       "      <td>2024-09-05 01:46:00</td>\n",
       "      <td>2024-09-05 08:46:53</td>\n",
       "      <td>2024-09-05 13:28:30</td>\n",
       "      <td>PAID</td>\n",
       "      <td>2024-09-05 13:28:33</td>\n",
       "      <td>0 days 00:00:53</td>\n",
       "      <td>0 days 04:41:37</td>\n",
       "      <td>0 days 00:00:03</td>\n",
       "      <td>0 days 04:42:33</td>\n",
       "      <td>0 days 00:00:03</td>\n",
       "    </tr>\n",
       "    <tr>\n",
       "      <th>244</th>\n",
       "      <td>010.182.24-01.011088</td>\n",
       "      <td>12409730996294</td>\n",
       "      <td>2024-09-04 06:00:00</td>\n",
       "      <td>2024-09-04 13:01:00</td>\n",
       "      <td>2024-09-04 13:02:03</td>\n",
       "      <td>PAID</td>\n",
       "      <td>2024-09-04 13:02:12</td>\n",
       "      <td>0 days 00:01:00</td>\n",
       "      <td>0 days 00:01:03</td>\n",
       "      <td>0 days 00:00:09</td>\n",
       "      <td>0 days 00:02:12</td>\n",
       "      <td>0 days 00:00:09</td>\n",
       "    </tr>\n",
       "  </tbody>\n",
       "</table>\n",
       "</div>"
      ],
      "text/plain": [
       "           invoice_number    payment_code   payment_date_ihub  \\\n",
       "108  010.183.24-73.062417  12409731009290 2024-09-06 08:40:00   \n",
       "466  000.184.24-74.027891  12409731006066 2024-09-06 03:27:00   \n",
       "376  010.183.24-73.051838  12407730843413 2024-07-30 08:36:00   \n",
       "184  010.183.24-74.038921  12409731000898 2024-09-05 01:46:00   \n",
       "244  010.182.24-01.011088  12409730996294 2024-09-04 06:00:00   \n",
       "\n",
       "         flagging_praya        sap_send_log status        sap_complete  \\\n",
       "108 2024-09-06 15:40:01 2024-09-06 15:41:02   PAID 2024-09-06 15:41:06   \n",
       "466 2024-09-06 10:27:00 2024-09-06 10:28:05   PAID 2024-09-06 10:28:08   \n",
       "376 2024-07-30 15:36:16 2024-09-02 13:01:01   PAID 2024-09-02 13:01:08   \n",
       "184 2024-09-05 08:46:53 2024-09-05 13:28:30   PAID 2024-09-05 13:28:33   \n",
       "244 2024-09-04 13:01:00 2024-09-04 13:02:03   PAID 2024-09-04 13:02:12   \n",
       "\n",
       "    flagging_praya_delay   sap_send_delay sap_nofaktur_generate_time  \\\n",
       "108      0 days 00:00:01  0 days 00:01:01            0 days 00:00:04   \n",
       "466      0 days 00:00:00  0 days 00:01:05            0 days 00:00:03   \n",
       "376      0 days 00:00:16 33 days 21:24:45            0 days 00:00:07   \n",
       "184      0 days 00:00:53  0 days 04:41:37            0 days 00:00:03   \n",
       "244      0 days 00:01:00  0 days 00:01:03            0 days 00:00:09   \n",
       "\n",
       "    total_time_to_print_invoice      difference  \n",
       "108             0 days 00:01:06 0 days 00:00:04  \n",
       "466             0 days 00:01:08 0 days 00:00:03  \n",
       "376            33 days 21:25:08 0 days 00:00:07  \n",
       "184             0 days 04:42:33 0 days 00:00:03  \n",
       "244             0 days 00:02:12 0 days 00:00:09  "
      ]
     },
     "execution_count": 32,
     "metadata": {},
     "output_type": "execute_result"
    }
   ],
   "source": [
    "df_pay_temp.sample(5)"
   ]
  },
  {
   "cell_type": "code",
   "execution_count": 33,
   "metadata": {},
   "outputs": [],
   "source": [
    "# remove data from df_pay_update for index 384\n",
    "\n",
    "df_pay_updated = df_pay_updated.drop(index=384)\n"
   ]
  },
  {
   "cell_type": "markdown",
   "metadata": {},
   "source": [
    "**findings**: setelah dilakukan analisis berupa mengurangi sap_complete dengan `sap_send_log`, ditemukan bahwa formula tersebut digunakan untuk mendapatkan nilai `sap_nofaktur_generate_time`. Hal ini berdasarkan hasil yang didapatkan pada data dengan `invoice_number = 010.643.24-01.000566` yang terdapat dua data (terduplikasi) dengan perbedaan antara keduanya yaitu pada `sap_send_log`. Ketika diterapkan formula tersebut, didapatkan perbedaan nilai 6 detik, dimana nilai tersebut sama dengan nilai `sap_nofaktur_generate_time` pada df_pay baik sebelum di merge maupun sesudah.\n",
    "\n",
    "Oleh karena itu, satu data lainnya yang tidak memiliki perbedaan sebesar 6 detik dihapus."
   ]
  },
  {
   "cell_type": "code",
   "execution_count": 34,
   "metadata": {},
   "outputs": [
    {
     "data": {
      "text/plain": [
       "(4, 11)"
      ]
     },
     "execution_count": 34,
     "metadata": {},
     "output_type": "execute_result"
    }
   ],
   "source": [
    "# check if there are some datas that are not in september based on payment_date_ihub\n",
    "payment_date_check = df_pay_updated[~((df_pay_updated['payment_date_ihub'].dt.year == 2024) & (df_pay_updated['payment_date_ihub'].dt.month == 9))]\n",
    "\n",
    "payment_date_check.shape"
   ]
  },
  {
   "cell_type": "code",
   "execution_count": 35,
   "metadata": {},
   "outputs": [
    {
     "data": {
      "text/plain": [
       "(4, 11)"
      ]
     },
     "execution_count": 35,
     "metadata": {},
     "output_type": "execute_result"
    }
   ],
   "source": [
    "# check if there are some datas that are not in september based on flagging_praya\n",
    "flag_check = df_pay_updated[~((df_pay_updated['flagging_praya'].dt.year == 2024) & (df_pay_updated['flagging_praya'].dt.month == 9))]\n",
    "\n",
    "flag_check.shape"
   ]
  },
  {
   "cell_type": "code",
   "execution_count": 36,
   "metadata": {},
   "outputs": [
    {
     "data": {
      "text/plain": [
       "(1, 11)"
      ]
     },
     "execution_count": 36,
     "metadata": {},
     "output_type": "execute_result"
    }
   ],
   "source": [
    "# check if there are some datas that are not in september based on sap_send_log\n",
    "sap_send_check = df_pay_updated[~((df_pay_updated['sap_send_log'].dt.year == 2024) & (df_pay_updated['sap_send_log'].dt.month == 9))]\n",
    "\n",
    "sap_send_check.shape"
   ]
  },
  {
   "cell_type": "code",
   "execution_count": 37,
   "metadata": {},
   "outputs": [
    {
     "data": {
      "text/plain": [
       "(1, 11)"
      ]
     },
     "execution_count": 37,
     "metadata": {},
     "output_type": "execute_result"
    }
   ],
   "source": [
    "# check if there are some datas that are not in september based on sap_complete\n",
    "sap_complete_check = df_pay_updated[~((df_pay_updated['sap_complete'].dt.year == 2024) & (df_pay_updated['sap_complete'].dt.month == 9))]\n",
    "\n",
    "sap_complete_check.shape"
   ]
  },
  {
   "cell_type": "code",
   "execution_count": 38,
   "metadata": {},
   "outputs": [
    {
     "data": {
      "text/html": [
       "<div>\n",
       "<style scoped>\n",
       "    .dataframe tbody tr th:only-of-type {\n",
       "        vertical-align: middle;\n",
       "    }\n",
       "\n",
       "    .dataframe tbody tr th {\n",
       "        vertical-align: top;\n",
       "    }\n",
       "\n",
       "    .dataframe thead th {\n",
       "        text-align: right;\n",
       "    }\n",
       "</style>\n",
       "<table border=\"1\" class=\"dataframe\">\n",
       "  <thead>\n",
       "    <tr style=\"text-align: right;\">\n",
       "      <th></th>\n",
       "      <th>invoice_number</th>\n",
       "      <th>payment_code</th>\n",
       "      <th>payment_date_ihub</th>\n",
       "      <th>flagging_praya</th>\n",
       "      <th>sap_send_log</th>\n",
       "      <th>status</th>\n",
       "      <th>sap_complete</th>\n",
       "      <th>flagging_praya_delay</th>\n",
       "      <th>sap_send_delay</th>\n",
       "      <th>sap_nofaktur_generate_time</th>\n",
       "      <th>total_time_to_print_invoice</th>\n",
       "    </tr>\n",
       "  </thead>\n",
       "  <tbody>\n",
       "    <tr>\n",
       "      <th>416</th>\n",
       "      <td>010.183.24-73.060990</td>\n",
       "      <td>12408730984058</td>\n",
       "      <td>2024-08-31 16:48:00</td>\n",
       "      <td>2024-08-31 23:48:02</td>\n",
       "      <td>2024-08-31 23:49:03</td>\n",
       "      <td>PAID</td>\n",
       "      <td>2024-08-31 23:49:07</td>\n",
       "      <td>0 days 00:00:02</td>\n",
       "      <td>0 days 00:01:01</td>\n",
       "      <td>0 days 00:00:04</td>\n",
       "      <td>0 days 00:01:07</td>\n",
       "    </tr>\n",
       "  </tbody>\n",
       "</table>\n",
       "</div>"
      ],
      "text/plain": [
       "           invoice_number    payment_code   payment_date_ihub  \\\n",
       "416  010.183.24-73.060990  12408730984058 2024-08-31 16:48:00   \n",
       "\n",
       "         flagging_praya        sap_send_log status        sap_complete  \\\n",
       "416 2024-08-31 23:48:02 2024-08-31 23:49:03   PAID 2024-08-31 23:49:07   \n",
       "\n",
       "    flagging_praya_delay  sap_send_delay sap_nofaktur_generate_time  \\\n",
       "416      0 days 00:00:02 0 days 00:01:01            0 days 00:00:04   \n",
       "\n",
       "    total_time_to_print_invoice  \n",
       "416             0 days 00:01:07  "
      ]
     },
     "execution_count": 38,
     "metadata": {},
     "output_type": "execute_result"
    }
   ],
   "source": [
    "sap_complete_check"
   ]
  },
  {
   "cell_type": "code",
   "execution_count": 39,
   "metadata": {},
   "outputs": [
    {
     "data": {
      "text/plain": [
       "(589, 11)"
      ]
     },
     "execution_count": 39,
     "metadata": {},
     "output_type": "execute_result"
    }
   ],
   "source": [
    "df_pay_updated = df_pay_updated[(df_pay_updated['sap_complete'].dt.year == 2024) & (df_pay_updated['sap_complete'].dt.month == 9)]\n",
    "\n",
    "df_pay_updated.shape"
   ]
  },
  {
   "cell_type": "code",
   "execution_count": 40,
   "metadata": {},
   "outputs": [
    {
     "data": {
      "text/html": [
       "<div>\n",
       "<style scoped>\n",
       "    .dataframe tbody tr th:only-of-type {\n",
       "        vertical-align: middle;\n",
       "    }\n",
       "\n",
       "    .dataframe tbody tr th {\n",
       "        vertical-align: top;\n",
       "    }\n",
       "\n",
       "    .dataframe thead th {\n",
       "        text-align: right;\n",
       "    }\n",
       "</style>\n",
       "<table border=\"1\" class=\"dataframe\">\n",
       "  <thead>\n",
       "    <tr style=\"text-align: right;\">\n",
       "      <th></th>\n",
       "      <th>invoice_number</th>\n",
       "      <th>payment_code</th>\n",
       "      <th>payment_date_ihub</th>\n",
       "      <th>flagging_praya</th>\n",
       "      <th>sap_send_log</th>\n",
       "      <th>status</th>\n",
       "      <th>sap_complete</th>\n",
       "      <th>flagging_praya_delay</th>\n",
       "      <th>sap_send_delay</th>\n",
       "      <th>sap_nofaktur_generate_time</th>\n",
       "      <th>total_time_to_print_invoice</th>\n",
       "    </tr>\n",
       "  </thead>\n",
       "  <tbody>\n",
       "    <tr>\n",
       "      <th>232</th>\n",
       "      <td>010.182.24-01.011149</td>\n",
       "      <td>12408730900836</td>\n",
       "      <td>2024-09-04 07:26:00</td>\n",
       "      <td>2024-09-04 14:26:00</td>\n",
       "      <td>2024-09-04 14:27:02</td>\n",
       "      <td>PAID</td>\n",
       "      <td>2024-09-04 14:27:05</td>\n",
       "      <td>0 days 00:00:00</td>\n",
       "      <td>0 days 00:01:02</td>\n",
       "      <td>0 days 00:00:03</td>\n",
       "      <td>0 days 00:01:05</td>\n",
       "    </tr>\n",
       "    <tr>\n",
       "      <th>485</th>\n",
       "      <td>000.184.24-77.011185</td>\n",
       "      <td>12409731002463</td>\n",
       "      <td>2024-09-05 03:39:00</td>\n",
       "      <td>2024-09-05 10:39:41</td>\n",
       "      <td>2024-09-05 10:40:52</td>\n",
       "      <td>PAID</td>\n",
       "      <td>2024-09-05 10:40:54</td>\n",
       "      <td>0 days 00:00:41</td>\n",
       "      <td>0 days 00:01:11</td>\n",
       "      <td>0 days 00:00:02</td>\n",
       "      <td>0 days 00:01:54</td>\n",
       "    </tr>\n",
       "    <tr>\n",
       "      <th>186</th>\n",
       "      <td>010.183.24-77.011689</td>\n",
       "      <td>12409731002593</td>\n",
       "      <td>2024-09-05 05:44:00</td>\n",
       "      <td>2024-09-05 12:44:03</td>\n",
       "      <td>2024-09-05 12:45:08</td>\n",
       "      <td>PAID</td>\n",
       "      <td>2024-09-05 12:45:11</td>\n",
       "      <td>0 days 00:00:03</td>\n",
       "      <td>0 days 00:01:05</td>\n",
       "      <td>0 days 00:00:03</td>\n",
       "      <td>0 days 00:01:11</td>\n",
       "    </tr>\n",
       "    <tr>\n",
       "      <th>142</th>\n",
       "      <td>010.183.24-74.039134</td>\n",
       "      <td>12409731006288</td>\n",
       "      <td>2024-09-06 00:51:00</td>\n",
       "      <td>2024-09-06 07:51:01</td>\n",
       "      <td>2024-09-06 07:52:02</td>\n",
       "      <td>PAID</td>\n",
       "      <td>2024-09-06 07:52:06</td>\n",
       "      <td>0 days 00:00:01</td>\n",
       "      <td>0 days 00:01:01</td>\n",
       "      <td>0 days 00:00:04</td>\n",
       "      <td>0 days 00:01:06</td>\n",
       "    </tr>\n",
       "    <tr>\n",
       "      <th>400</th>\n",
       "      <td>010.183.24-74.038350</td>\n",
       "      <td>12409730985481</td>\n",
       "      <td>2024-09-02 00:18:00</td>\n",
       "      <td>2024-09-02 07:18:04</td>\n",
       "      <td>2024-09-02 07:19:07</td>\n",
       "      <td>PAID</td>\n",
       "      <td>2024-09-02 07:19:10</td>\n",
       "      <td>0 days 00:00:04</td>\n",
       "      <td>0 days 00:01:03</td>\n",
       "      <td>0 days 00:00:03</td>\n",
       "      <td>0 days 00:01:10</td>\n",
       "    </tr>\n",
       "  </tbody>\n",
       "</table>\n",
       "</div>"
      ],
      "text/plain": [
       "           invoice_number    payment_code   payment_date_ihub  \\\n",
       "232  010.182.24-01.011149  12408730900836 2024-09-04 07:26:00   \n",
       "485  000.184.24-77.011185  12409731002463 2024-09-05 03:39:00   \n",
       "186  010.183.24-77.011689  12409731002593 2024-09-05 05:44:00   \n",
       "142  010.183.24-74.039134  12409731006288 2024-09-06 00:51:00   \n",
       "400  010.183.24-74.038350  12409730985481 2024-09-02 00:18:00   \n",
       "\n",
       "         flagging_praya        sap_send_log status        sap_complete  \\\n",
       "232 2024-09-04 14:26:00 2024-09-04 14:27:02   PAID 2024-09-04 14:27:05   \n",
       "485 2024-09-05 10:39:41 2024-09-05 10:40:52   PAID 2024-09-05 10:40:54   \n",
       "186 2024-09-05 12:44:03 2024-09-05 12:45:08   PAID 2024-09-05 12:45:11   \n",
       "142 2024-09-06 07:51:01 2024-09-06 07:52:02   PAID 2024-09-06 07:52:06   \n",
       "400 2024-09-02 07:18:04 2024-09-02 07:19:07   PAID 2024-09-02 07:19:10   \n",
       "\n",
       "    flagging_praya_delay  sap_send_delay sap_nofaktur_generate_time  \\\n",
       "232      0 days 00:00:00 0 days 00:01:02            0 days 00:00:03   \n",
       "485      0 days 00:00:41 0 days 00:01:11            0 days 00:00:02   \n",
       "186      0 days 00:00:03 0 days 00:01:05            0 days 00:00:03   \n",
       "142      0 days 00:00:01 0 days 00:01:01            0 days 00:00:04   \n",
       "400      0 days 00:00:04 0 days 00:01:03            0 days 00:00:03   \n",
       "\n",
       "    total_time_to_print_invoice  \n",
       "232             0 days 00:01:05  \n",
       "485             0 days 00:01:54  \n",
       "186             0 days 00:01:11  \n",
       "142             0 days 00:01:06  \n",
       "400             0 days 00:01:10  "
      ]
     },
     "execution_count": 40,
     "metadata": {},
     "output_type": "execute_result"
    }
   ],
   "source": [
    "df_pay_updated.sample(5)"
   ]
  },
  {
   "cell_type": "markdown",
   "metadata": {},
   "source": [
    "**findings**: diasumsikan bahwa data per 1 September dilihat dari date time sap_complete dikarenakan ada beberapa nilai pada parameter lain seperti `flagging_praya` yang memiliki lebih dari 5 data dengan date time diluar bulan september."
   ]
  },
  {
   "cell_type": "markdown",
   "metadata": {},
   "source": [
    "# Data Cleaning"
   ]
  },
  {
   "cell_type": "code",
   "execution_count": 41,
   "metadata": {},
   "outputs": [
    {
     "name": "stdout",
     "output_type": "stream",
     "text": [
      "invoice_number: 589\n",
      "payment_code: 589\n",
      "payment_date_ihub: 412\n",
      "flagging_praya: 533\n",
      "sap_send_log: 578\n",
      "status: 1\n",
      "sap_complete: 587\n",
      "flagging_praya_delay: 49\n",
      "sap_send_delay: 50\n",
      "sap_nofaktur_generate_time: 70\n",
      "total_time_to_print_invoice: 128\n"
     ]
    }
   ],
   "source": [
    "for col in df_pay_updated.columns:\n",
    "    unique_count = df_pay_updated[col].nunique()\n",
    "    print(f\"{col}: {unique_count}\")"
   ]
  },
  {
   "cell_type": "code",
   "execution_count": 42,
   "metadata": {},
   "outputs": [
    {
     "data": {
      "text/plain": [
       "Index(['invoice_number', 'payment_code', 'payment_date_ihub', 'flagging_praya',\n",
       "       'sap_send_log', 'sap_complete', 'flagging_praya_delay',\n",
       "       'sap_send_delay', 'sap_nofaktur_generate_time',\n",
       "       'total_time_to_print_invoice'],\n",
       "      dtype='object')"
      ]
     },
     "execution_count": 42,
     "metadata": {},
     "output_type": "execute_result"
    }
   ],
   "source": [
    "df_pay_updated.drop(['status'], axis=1, inplace=True)\n",
    "\n",
    "df_pay_updated.columns"
   ]
  },
  {
   "cell_type": "code",
   "execution_count": 43,
   "metadata": {},
   "outputs": [
    {
     "data": {
      "text/plain": [
       "(10, 10)"
      ]
     },
     "execution_count": 43,
     "metadata": {},
     "output_type": "execute_result"
    }
   ],
   "source": [
    "# check if there are minus/negative value in flagging_praya_delay\n",
    "df_flag_minus = df_pay_updated[df_pay_updated['flagging_praya_delay'].dt.total_seconds() < 0]\n",
    "\n",
    "df_flag_minus.shape"
   ]
  },
  {
   "cell_type": "code",
   "execution_count": 44,
   "metadata": {},
   "outputs": [
    {
     "data": {
      "text/plain": [
       "(0, 10)"
      ]
     },
     "execution_count": 44,
     "metadata": {},
     "output_type": "execute_result"
    }
   ],
   "source": [
    "# check if there are minus/negative value in sap_send_delay\n",
    "df_sap_minus = df_pay_updated[df_pay_updated['sap_send_delay'].dt.total_seconds() < 0]\n",
    "\n",
    "df_sap_minus.shape"
   ]
  },
  {
   "cell_type": "code",
   "execution_count": 45,
   "metadata": {},
   "outputs": [
    {
     "data": {
      "text/plain": [
       "(0, 10)"
      ]
     },
     "execution_count": 45,
     "metadata": {},
     "output_type": "execute_result"
    }
   ],
   "source": [
    "# check if there are minus/negative value in sap_nofaktur_generate_time\n",
    "df_fraktur_minus = df_pay_updated[df_pay_updated['sap_nofaktur_generate_time'].dt.total_seconds() < 0]\n",
    "\n",
    "df_fraktur_minus.shape"
   ]
  },
  {
   "cell_type": "code",
   "execution_count": 46,
   "metadata": {},
   "outputs": [
    {
     "data": {
      "text/plain": [
       "(9, 10)"
      ]
     },
     "execution_count": 46,
     "metadata": {},
     "output_type": "execute_result"
    }
   ],
   "source": [
    "# check if there are minus/negative value in total_time_to_print_invoice\n",
    "df_time_minus = df_pay_updated[df_pay_updated['total_time_to_print_invoice'].dt.total_seconds() < 0]\n",
    "\n",
    "df_time_minus.shape"
   ]
  },
  {
   "cell_type": "code",
   "execution_count": 47,
   "metadata": {},
   "outputs": [
    {
     "data": {
      "text/html": [
       "<div>\n",
       "<style scoped>\n",
       "    .dataframe tbody tr th:only-of-type {\n",
       "        vertical-align: middle;\n",
       "    }\n",
       "\n",
       "    .dataframe tbody tr th {\n",
       "        vertical-align: top;\n",
       "    }\n",
       "\n",
       "    .dataframe thead th {\n",
       "        text-align: right;\n",
       "    }\n",
       "</style>\n",
       "<table border=\"1\" class=\"dataframe\">\n",
       "  <thead>\n",
       "    <tr style=\"text-align: right;\">\n",
       "      <th></th>\n",
       "      <th>invoice_number</th>\n",
       "      <th>payment_code</th>\n",
       "      <th>payment_date_ihub</th>\n",
       "      <th>flagging_praya</th>\n",
       "      <th>sap_send_log</th>\n",
       "      <th>sap_complete</th>\n",
       "      <th>flagging_praya_delay</th>\n",
       "      <th>sap_send_delay</th>\n",
       "      <th>sap_nofaktur_generate_time</th>\n",
       "      <th>total_time_to_print_invoice</th>\n",
       "    </tr>\n",
       "  </thead>\n",
       "  <tbody>\n",
       "    <tr>\n",
       "      <th>434</th>\n",
       "      <td>010.184.24-73.004797</td>\n",
       "      <td>12409731012670</td>\n",
       "      <td>2024-09-07 11:21:00</td>\n",
       "      <td>2024-09-07 11:21:00</td>\n",
       "      <td>2024-09-07 11:22:01</td>\n",
       "      <td>2024-09-07 11:22:04</td>\n",
       "      <td>-1 days +17:00:00</td>\n",
       "      <td>0 days 00:01:01</td>\n",
       "      <td>0 days 00:00:03</td>\n",
       "      <td>-1 days +17:01:04</td>\n",
       "    </tr>\n",
       "    <tr>\n",
       "      <th>440</th>\n",
       "      <td>000.184.24-73.017941</td>\n",
       "      <td>12409731012492</td>\n",
       "      <td>2024-09-07 10:53:00</td>\n",
       "      <td>2024-09-07 10:53:00</td>\n",
       "      <td>2024-09-07 10:54:01</td>\n",
       "      <td>2024-09-07 10:54:05</td>\n",
       "      <td>-1 days +17:00:00</td>\n",
       "      <td>0 days 00:01:01</td>\n",
       "      <td>0 days 00:00:04</td>\n",
       "      <td>-1 days +17:01:05</td>\n",
       "    </tr>\n",
       "    <tr>\n",
       "      <th>450</th>\n",
       "      <td>010.184.24-73.004789</td>\n",
       "      <td>12409731012129</td>\n",
       "      <td>2024-09-07 10:10:01</td>\n",
       "      <td>2024-09-07 10:10:01</td>\n",
       "      <td>2024-09-07 10:11:01</td>\n",
       "      <td>2024-09-07 10:14:27</td>\n",
       "      <td>-1 days +17:00:00</td>\n",
       "      <td>0 days 00:01:00</td>\n",
       "      <td>0 days 00:03:26</td>\n",
       "      <td>-1 days +17:04:26</td>\n",
       "    </tr>\n",
       "    <tr>\n",
       "      <th>463</th>\n",
       "      <td>000.184.24-73.017907</td>\n",
       "      <td>12409731009571</td>\n",
       "      <td>2024-09-06 16:27:34</td>\n",
       "      <td>2024-09-06 16:27:34</td>\n",
       "      <td>2024-09-06 16:28:39</td>\n",
       "      <td>2024-09-06 16:28:42</td>\n",
       "      <td>-1 days +17:00:00</td>\n",
       "      <td>0 days 00:01:05</td>\n",
       "      <td>0 days 00:00:03</td>\n",
       "      <td>-1 days +17:01:08</td>\n",
       "    </tr>\n",
       "    <tr>\n",
       "      <th>491</th>\n",
       "      <td>000.184.24-73.017749</td>\n",
       "      <td>12409731002214</td>\n",
       "      <td>2024-09-05 09:50:01</td>\n",
       "      <td>2024-09-05 09:50:01</td>\n",
       "      <td>2024-09-05 09:51:02</td>\n",
       "      <td>2024-09-05 09:51:05</td>\n",
       "      <td>-1 days +17:00:00</td>\n",
       "      <td>0 days 00:01:01</td>\n",
       "      <td>0 days 00:00:03</td>\n",
       "      <td>-1 days +17:01:04</td>\n",
       "    </tr>\n",
       "    <tr>\n",
       "      <th>520</th>\n",
       "      <td>010.184.24-73.004636</td>\n",
       "      <td>12409730995090</td>\n",
       "      <td>2024-09-03 16:12:00</td>\n",
       "      <td>2024-09-03 16:12:00</td>\n",
       "      <td>2024-09-03 16:13:01</td>\n",
       "      <td>2024-09-03 16:15:21</td>\n",
       "      <td>-1 days +17:00:00</td>\n",
       "      <td>0 days 00:01:01</td>\n",
       "      <td>0 days 00:02:20</td>\n",
       "      <td>-1 days +17:03:21</td>\n",
       "    </tr>\n",
       "    <tr>\n",
       "      <th>536</th>\n",
       "      <td>010.184.24-73.004602</td>\n",
       "      <td>12409730992404</td>\n",
       "      <td>2024-09-03 10:11:00</td>\n",
       "      <td>2024-09-03 10:11:00</td>\n",
       "      <td>2024-09-03 10:12:01</td>\n",
       "      <td>2024-09-03 10:16:40</td>\n",
       "      <td>-1 days +17:00:00</td>\n",
       "      <td>0 days 00:01:01</td>\n",
       "      <td>0 days 00:04:39</td>\n",
       "      <td>-1 days +17:05:40</td>\n",
       "    </tr>\n",
       "    <tr>\n",
       "      <th>570</th>\n",
       "      <td>010.184.24-73.004577</td>\n",
       "      <td>12409730987345</td>\n",
       "      <td>2024-09-02 11:23:01</td>\n",
       "      <td>2024-09-02 11:23:01</td>\n",
       "      <td>2024-09-02 11:24:01</td>\n",
       "      <td>2024-09-02 11:24:07</td>\n",
       "      <td>-1 days +17:00:00</td>\n",
       "      <td>0 days 00:01:00</td>\n",
       "      <td>0 days 00:00:06</td>\n",
       "      <td>-1 days +17:01:06</td>\n",
       "    </tr>\n",
       "    <tr>\n",
       "      <th>589</th>\n",
       "      <td>010.184.24-73.004568</td>\n",
       "      <td>12409730984366</td>\n",
       "      <td>2024-09-01 09:56:02</td>\n",
       "      <td>2024-09-01 09:56:02</td>\n",
       "      <td>2024-09-01 09:57:02</td>\n",
       "      <td>2024-09-01 09:57:05</td>\n",
       "      <td>-1 days +17:00:00</td>\n",
       "      <td>0 days 00:01:00</td>\n",
       "      <td>0 days 00:00:03</td>\n",
       "      <td>-1 days +17:01:03</td>\n",
       "    </tr>\n",
       "  </tbody>\n",
       "</table>\n",
       "</div>"
      ],
      "text/plain": [
       "           invoice_number    payment_code   payment_date_ihub  \\\n",
       "434  010.184.24-73.004797  12409731012670 2024-09-07 11:21:00   \n",
       "440  000.184.24-73.017941  12409731012492 2024-09-07 10:53:00   \n",
       "450  010.184.24-73.004789  12409731012129 2024-09-07 10:10:01   \n",
       "463  000.184.24-73.017907  12409731009571 2024-09-06 16:27:34   \n",
       "491  000.184.24-73.017749  12409731002214 2024-09-05 09:50:01   \n",
       "520  010.184.24-73.004636  12409730995090 2024-09-03 16:12:00   \n",
       "536  010.184.24-73.004602  12409730992404 2024-09-03 10:11:00   \n",
       "570  010.184.24-73.004577  12409730987345 2024-09-02 11:23:01   \n",
       "589  010.184.24-73.004568  12409730984366 2024-09-01 09:56:02   \n",
       "\n",
       "         flagging_praya        sap_send_log        sap_complete  \\\n",
       "434 2024-09-07 11:21:00 2024-09-07 11:22:01 2024-09-07 11:22:04   \n",
       "440 2024-09-07 10:53:00 2024-09-07 10:54:01 2024-09-07 10:54:05   \n",
       "450 2024-09-07 10:10:01 2024-09-07 10:11:01 2024-09-07 10:14:27   \n",
       "463 2024-09-06 16:27:34 2024-09-06 16:28:39 2024-09-06 16:28:42   \n",
       "491 2024-09-05 09:50:01 2024-09-05 09:51:02 2024-09-05 09:51:05   \n",
       "520 2024-09-03 16:12:00 2024-09-03 16:13:01 2024-09-03 16:15:21   \n",
       "536 2024-09-03 10:11:00 2024-09-03 10:12:01 2024-09-03 10:16:40   \n",
       "570 2024-09-02 11:23:01 2024-09-02 11:24:01 2024-09-02 11:24:07   \n",
       "589 2024-09-01 09:56:02 2024-09-01 09:57:02 2024-09-01 09:57:05   \n",
       "\n",
       "    flagging_praya_delay  sap_send_delay sap_nofaktur_generate_time  \\\n",
       "434    -1 days +17:00:00 0 days 00:01:01            0 days 00:00:03   \n",
       "440    -1 days +17:00:00 0 days 00:01:01            0 days 00:00:04   \n",
       "450    -1 days +17:00:00 0 days 00:01:00            0 days 00:03:26   \n",
       "463    -1 days +17:00:00 0 days 00:01:05            0 days 00:00:03   \n",
       "491    -1 days +17:00:00 0 days 00:01:01            0 days 00:00:03   \n",
       "520    -1 days +17:00:00 0 days 00:01:01            0 days 00:02:20   \n",
       "536    -1 days +17:00:00 0 days 00:01:01            0 days 00:04:39   \n",
       "570    -1 days +17:00:00 0 days 00:01:00            0 days 00:00:06   \n",
       "589    -1 days +17:00:00 0 days 00:01:00            0 days 00:00:03   \n",
       "\n",
       "    total_time_to_print_invoice  \n",
       "434           -1 days +17:01:04  \n",
       "440           -1 days +17:01:05  \n",
       "450           -1 days +17:04:26  \n",
       "463           -1 days +17:01:08  \n",
       "491           -1 days +17:01:04  \n",
       "520           -1 days +17:03:21  \n",
       "536           -1 days +17:05:40  \n",
       "570           -1 days +17:01:06  \n",
       "589           -1 days +17:01:03  "
      ]
     },
     "execution_count": 47,
     "metadata": {},
     "output_type": "execute_result"
    }
   ],
   "source": [
    "df_time_minus"
   ]
  },
  {
   "cell_type": "code",
   "execution_count": 48,
   "metadata": {},
   "outputs": [
    {
     "data": {
      "text/html": [
       "<div>\n",
       "<style scoped>\n",
       "    .dataframe tbody tr th:only-of-type {\n",
       "        vertical-align: middle;\n",
       "    }\n",
       "\n",
       "    .dataframe tbody tr th {\n",
       "        vertical-align: top;\n",
       "    }\n",
       "\n",
       "    .dataframe thead th {\n",
       "        text-align: right;\n",
       "    }\n",
       "</style>\n",
       "<table border=\"1\" class=\"dataframe\">\n",
       "  <thead>\n",
       "    <tr style=\"text-align: right;\">\n",
       "      <th></th>\n",
       "      <th>invoice_number</th>\n",
       "      <th>payment_code</th>\n",
       "      <th>payment_date_ihub</th>\n",
       "      <th>flagging_praya</th>\n",
       "      <th>sap_send_log</th>\n",
       "      <th>sap_complete</th>\n",
       "      <th>flagging_praya_delay</th>\n",
       "      <th>sap_send_delay</th>\n",
       "      <th>sap_nofaktur_generate_time</th>\n",
       "      <th>total_time_to_print_invoice</th>\n",
       "    </tr>\n",
       "  </thead>\n",
       "  <tbody>\n",
       "    <tr>\n",
       "      <th>368</th>\n",
       "      <td>010.183.24-69.000951</td>\n",
       "      <td>12408730982286</td>\n",
       "      <td>2024-08-31 12:03:29</td>\n",
       "      <td>2024-08-31 12:03:29</td>\n",
       "      <td>2024-09-02 13:53:02</td>\n",
       "      <td>2024-09-02 13:53:06</td>\n",
       "      <td>-1 days +17:00:00</td>\n",
       "      <td>2 days 01:49:33</td>\n",
       "      <td>0 days 00:00:04</td>\n",
       "      <td>1 days 18:49:37</td>\n",
       "    </tr>\n",
       "    <tr>\n",
       "      <th>434</th>\n",
       "      <td>010.184.24-73.004797</td>\n",
       "      <td>12409731012670</td>\n",
       "      <td>2024-09-07 11:21:00</td>\n",
       "      <td>2024-09-07 11:21:00</td>\n",
       "      <td>2024-09-07 11:22:01</td>\n",
       "      <td>2024-09-07 11:22:04</td>\n",
       "      <td>-1 days +17:00:00</td>\n",
       "      <td>0 days 00:01:01</td>\n",
       "      <td>0 days 00:00:03</td>\n",
       "      <td>-1 days +17:01:04</td>\n",
       "    </tr>\n",
       "    <tr>\n",
       "      <th>440</th>\n",
       "      <td>000.184.24-73.017941</td>\n",
       "      <td>12409731012492</td>\n",
       "      <td>2024-09-07 10:53:00</td>\n",
       "      <td>2024-09-07 10:53:00</td>\n",
       "      <td>2024-09-07 10:54:01</td>\n",
       "      <td>2024-09-07 10:54:05</td>\n",
       "      <td>-1 days +17:00:00</td>\n",
       "      <td>0 days 00:01:01</td>\n",
       "      <td>0 days 00:00:04</td>\n",
       "      <td>-1 days +17:01:05</td>\n",
       "    </tr>\n",
       "    <tr>\n",
       "      <th>450</th>\n",
       "      <td>010.184.24-73.004789</td>\n",
       "      <td>12409731012129</td>\n",
       "      <td>2024-09-07 10:10:01</td>\n",
       "      <td>2024-09-07 10:10:01</td>\n",
       "      <td>2024-09-07 10:11:01</td>\n",
       "      <td>2024-09-07 10:14:27</td>\n",
       "      <td>-1 days +17:00:00</td>\n",
       "      <td>0 days 00:01:00</td>\n",
       "      <td>0 days 00:03:26</td>\n",
       "      <td>-1 days +17:04:26</td>\n",
       "    </tr>\n",
       "    <tr>\n",
       "      <th>463</th>\n",
       "      <td>000.184.24-73.017907</td>\n",
       "      <td>12409731009571</td>\n",
       "      <td>2024-09-06 16:27:34</td>\n",
       "      <td>2024-09-06 16:27:34</td>\n",
       "      <td>2024-09-06 16:28:39</td>\n",
       "      <td>2024-09-06 16:28:42</td>\n",
       "      <td>-1 days +17:00:00</td>\n",
       "      <td>0 days 00:01:05</td>\n",
       "      <td>0 days 00:00:03</td>\n",
       "      <td>-1 days +17:01:08</td>\n",
       "    </tr>\n",
       "    <tr>\n",
       "      <th>491</th>\n",
       "      <td>000.184.24-73.017749</td>\n",
       "      <td>12409731002214</td>\n",
       "      <td>2024-09-05 09:50:01</td>\n",
       "      <td>2024-09-05 09:50:01</td>\n",
       "      <td>2024-09-05 09:51:02</td>\n",
       "      <td>2024-09-05 09:51:05</td>\n",
       "      <td>-1 days +17:00:00</td>\n",
       "      <td>0 days 00:01:01</td>\n",
       "      <td>0 days 00:00:03</td>\n",
       "      <td>-1 days +17:01:04</td>\n",
       "    </tr>\n",
       "    <tr>\n",
       "      <th>520</th>\n",
       "      <td>010.184.24-73.004636</td>\n",
       "      <td>12409730995090</td>\n",
       "      <td>2024-09-03 16:12:00</td>\n",
       "      <td>2024-09-03 16:12:00</td>\n",
       "      <td>2024-09-03 16:13:01</td>\n",
       "      <td>2024-09-03 16:15:21</td>\n",
       "      <td>-1 days +17:00:00</td>\n",
       "      <td>0 days 00:01:01</td>\n",
       "      <td>0 days 00:02:20</td>\n",
       "      <td>-1 days +17:03:21</td>\n",
       "    </tr>\n",
       "    <tr>\n",
       "      <th>536</th>\n",
       "      <td>010.184.24-73.004602</td>\n",
       "      <td>12409730992404</td>\n",
       "      <td>2024-09-03 10:11:00</td>\n",
       "      <td>2024-09-03 10:11:00</td>\n",
       "      <td>2024-09-03 10:12:01</td>\n",
       "      <td>2024-09-03 10:16:40</td>\n",
       "      <td>-1 days +17:00:00</td>\n",
       "      <td>0 days 00:01:01</td>\n",
       "      <td>0 days 00:04:39</td>\n",
       "      <td>-1 days +17:05:40</td>\n",
       "    </tr>\n",
       "    <tr>\n",
       "      <th>570</th>\n",
       "      <td>010.184.24-73.004577</td>\n",
       "      <td>12409730987345</td>\n",
       "      <td>2024-09-02 11:23:01</td>\n",
       "      <td>2024-09-02 11:23:01</td>\n",
       "      <td>2024-09-02 11:24:01</td>\n",
       "      <td>2024-09-02 11:24:07</td>\n",
       "      <td>-1 days +17:00:00</td>\n",
       "      <td>0 days 00:01:00</td>\n",
       "      <td>0 days 00:00:06</td>\n",
       "      <td>-1 days +17:01:06</td>\n",
       "    </tr>\n",
       "    <tr>\n",
       "      <th>589</th>\n",
       "      <td>010.184.24-73.004568</td>\n",
       "      <td>12409730984366</td>\n",
       "      <td>2024-09-01 09:56:02</td>\n",
       "      <td>2024-09-01 09:56:02</td>\n",
       "      <td>2024-09-01 09:57:02</td>\n",
       "      <td>2024-09-01 09:57:05</td>\n",
       "      <td>-1 days +17:00:00</td>\n",
       "      <td>0 days 00:01:00</td>\n",
       "      <td>0 days 00:00:03</td>\n",
       "      <td>-1 days +17:01:03</td>\n",
       "    </tr>\n",
       "  </tbody>\n",
       "</table>\n",
       "</div>"
      ],
      "text/plain": [
       "           invoice_number    payment_code   payment_date_ihub  \\\n",
       "368  010.183.24-69.000951  12408730982286 2024-08-31 12:03:29   \n",
       "434  010.184.24-73.004797  12409731012670 2024-09-07 11:21:00   \n",
       "440  000.184.24-73.017941  12409731012492 2024-09-07 10:53:00   \n",
       "450  010.184.24-73.004789  12409731012129 2024-09-07 10:10:01   \n",
       "463  000.184.24-73.017907  12409731009571 2024-09-06 16:27:34   \n",
       "491  000.184.24-73.017749  12409731002214 2024-09-05 09:50:01   \n",
       "520  010.184.24-73.004636  12409730995090 2024-09-03 16:12:00   \n",
       "536  010.184.24-73.004602  12409730992404 2024-09-03 10:11:00   \n",
       "570  010.184.24-73.004577  12409730987345 2024-09-02 11:23:01   \n",
       "589  010.184.24-73.004568  12409730984366 2024-09-01 09:56:02   \n",
       "\n",
       "         flagging_praya        sap_send_log        sap_complete  \\\n",
       "368 2024-08-31 12:03:29 2024-09-02 13:53:02 2024-09-02 13:53:06   \n",
       "434 2024-09-07 11:21:00 2024-09-07 11:22:01 2024-09-07 11:22:04   \n",
       "440 2024-09-07 10:53:00 2024-09-07 10:54:01 2024-09-07 10:54:05   \n",
       "450 2024-09-07 10:10:01 2024-09-07 10:11:01 2024-09-07 10:14:27   \n",
       "463 2024-09-06 16:27:34 2024-09-06 16:28:39 2024-09-06 16:28:42   \n",
       "491 2024-09-05 09:50:01 2024-09-05 09:51:02 2024-09-05 09:51:05   \n",
       "520 2024-09-03 16:12:00 2024-09-03 16:13:01 2024-09-03 16:15:21   \n",
       "536 2024-09-03 10:11:00 2024-09-03 10:12:01 2024-09-03 10:16:40   \n",
       "570 2024-09-02 11:23:01 2024-09-02 11:24:01 2024-09-02 11:24:07   \n",
       "589 2024-09-01 09:56:02 2024-09-01 09:57:02 2024-09-01 09:57:05   \n",
       "\n",
       "    flagging_praya_delay  sap_send_delay sap_nofaktur_generate_time  \\\n",
       "368    -1 days +17:00:00 2 days 01:49:33            0 days 00:00:04   \n",
       "434    -1 days +17:00:00 0 days 00:01:01            0 days 00:00:03   \n",
       "440    -1 days +17:00:00 0 days 00:01:01            0 days 00:00:04   \n",
       "450    -1 days +17:00:00 0 days 00:01:00            0 days 00:03:26   \n",
       "463    -1 days +17:00:00 0 days 00:01:05            0 days 00:00:03   \n",
       "491    -1 days +17:00:00 0 days 00:01:01            0 days 00:00:03   \n",
       "520    -1 days +17:00:00 0 days 00:01:01            0 days 00:02:20   \n",
       "536    -1 days +17:00:00 0 days 00:01:01            0 days 00:04:39   \n",
       "570    -1 days +17:00:00 0 days 00:01:00            0 days 00:00:06   \n",
       "589    -1 days +17:00:00 0 days 00:01:00            0 days 00:00:03   \n",
       "\n",
       "    total_time_to_print_invoice  \n",
       "368             1 days 18:49:37  \n",
       "434           -1 days +17:01:04  \n",
       "440           -1 days +17:01:05  \n",
       "450           -1 days +17:04:26  \n",
       "463           -1 days +17:01:08  \n",
       "491           -1 days +17:01:04  \n",
       "520           -1 days +17:03:21  \n",
       "536           -1 days +17:05:40  \n",
       "570           -1 days +17:01:06  \n",
       "589           -1 days +17:01:03  "
      ]
     },
     "execution_count": 48,
     "metadata": {},
     "output_type": "execute_result"
    }
   ],
   "source": [
    "df_flag_minus"
   ]
  },
  {
   "cell_type": "code",
   "execution_count": 49,
   "metadata": {},
   "outputs": [
    {
     "data": {
      "text/html": [
       "<div>\n",
       "<style scoped>\n",
       "    .dataframe tbody tr th:only-of-type {\n",
       "        vertical-align: middle;\n",
       "    }\n",
       "\n",
       "    .dataframe tbody tr th {\n",
       "        vertical-align: top;\n",
       "    }\n",
       "\n",
       "    .dataframe thead th {\n",
       "        text-align: right;\n",
       "    }\n",
       "</style>\n",
       "<table border=\"1\" class=\"dataframe\">\n",
       "  <thead>\n",
       "    <tr style=\"text-align: right;\">\n",
       "      <th></th>\n",
       "      <th>invoice_number</th>\n",
       "      <th>payment_code</th>\n",
       "      <th>payment_date_ihub</th>\n",
       "      <th>flagging_praya</th>\n",
       "      <th>sap_send_log</th>\n",
       "      <th>sap_complete</th>\n",
       "      <th>flagging_praya_delay</th>\n",
       "      <th>sap_send_delay</th>\n",
       "      <th>sap_nofaktur_generate_time</th>\n",
       "      <th>total_time_to_print_invoice</th>\n",
       "    </tr>\n",
       "  </thead>\n",
       "  <tbody>\n",
       "    <tr>\n",
       "      <th>0</th>\n",
       "      <td>010.184.24-73.004797</td>\n",
       "      <td>12409731012670</td>\n",
       "      <td>2024-09-07 11:21:00</td>\n",
       "      <td>2024-09-07 11:21:00</td>\n",
       "      <td>2024-09-07 11:22:01</td>\n",
       "      <td>2024-09-07 11:22:04</td>\n",
       "      <td>-1 days +17:00:00</td>\n",
       "      <td>0 days 00:01:01</td>\n",
       "      <td>0 days 00:00:03</td>\n",
       "      <td>-1 days +17:01:04</td>\n",
       "    </tr>\n",
       "    <tr>\n",
       "      <th>1</th>\n",
       "      <td>000.184.24-73.017941</td>\n",
       "      <td>12409731012492</td>\n",
       "      <td>2024-09-07 10:53:00</td>\n",
       "      <td>2024-09-07 10:53:00</td>\n",
       "      <td>2024-09-07 10:54:01</td>\n",
       "      <td>2024-09-07 10:54:05</td>\n",
       "      <td>-1 days +17:00:00</td>\n",
       "      <td>0 days 00:01:01</td>\n",
       "      <td>0 days 00:00:04</td>\n",
       "      <td>-1 days +17:01:05</td>\n",
       "    </tr>\n",
       "    <tr>\n",
       "      <th>2</th>\n",
       "      <td>010.184.24-73.004789</td>\n",
       "      <td>12409731012129</td>\n",
       "      <td>2024-09-07 10:10:01</td>\n",
       "      <td>2024-09-07 10:10:01</td>\n",
       "      <td>2024-09-07 10:11:01</td>\n",
       "      <td>2024-09-07 10:14:27</td>\n",
       "      <td>-1 days +17:00:00</td>\n",
       "      <td>0 days 00:01:00</td>\n",
       "      <td>0 days 00:03:26</td>\n",
       "      <td>-1 days +17:04:26</td>\n",
       "    </tr>\n",
       "    <tr>\n",
       "      <th>3</th>\n",
       "      <td>000.184.24-73.017907</td>\n",
       "      <td>12409731009571</td>\n",
       "      <td>2024-09-06 16:27:34</td>\n",
       "      <td>2024-09-06 16:27:34</td>\n",
       "      <td>2024-09-06 16:28:39</td>\n",
       "      <td>2024-09-06 16:28:42</td>\n",
       "      <td>-1 days +17:00:00</td>\n",
       "      <td>0 days 00:01:05</td>\n",
       "      <td>0 days 00:00:03</td>\n",
       "      <td>-1 days +17:01:08</td>\n",
       "    </tr>\n",
       "    <tr>\n",
       "      <th>4</th>\n",
       "      <td>000.184.24-73.017749</td>\n",
       "      <td>12409731002214</td>\n",
       "      <td>2024-09-05 09:50:01</td>\n",
       "      <td>2024-09-05 09:50:01</td>\n",
       "      <td>2024-09-05 09:51:02</td>\n",
       "      <td>2024-09-05 09:51:05</td>\n",
       "      <td>-1 days +17:00:00</td>\n",
       "      <td>0 days 00:01:01</td>\n",
       "      <td>0 days 00:00:03</td>\n",
       "      <td>-1 days +17:01:04</td>\n",
       "    </tr>\n",
       "    <tr>\n",
       "      <th>5</th>\n",
       "      <td>010.184.24-73.004636</td>\n",
       "      <td>12409730995090</td>\n",
       "      <td>2024-09-03 16:12:00</td>\n",
       "      <td>2024-09-03 16:12:00</td>\n",
       "      <td>2024-09-03 16:13:01</td>\n",
       "      <td>2024-09-03 16:15:21</td>\n",
       "      <td>-1 days +17:00:00</td>\n",
       "      <td>0 days 00:01:01</td>\n",
       "      <td>0 days 00:02:20</td>\n",
       "      <td>-1 days +17:03:21</td>\n",
       "    </tr>\n",
       "    <tr>\n",
       "      <th>6</th>\n",
       "      <td>010.184.24-73.004602</td>\n",
       "      <td>12409730992404</td>\n",
       "      <td>2024-09-03 10:11:00</td>\n",
       "      <td>2024-09-03 10:11:00</td>\n",
       "      <td>2024-09-03 10:12:01</td>\n",
       "      <td>2024-09-03 10:16:40</td>\n",
       "      <td>-1 days +17:00:00</td>\n",
       "      <td>0 days 00:01:01</td>\n",
       "      <td>0 days 00:04:39</td>\n",
       "      <td>-1 days +17:05:40</td>\n",
       "    </tr>\n",
       "    <tr>\n",
       "      <th>7</th>\n",
       "      <td>010.184.24-73.004577</td>\n",
       "      <td>12409730987345</td>\n",
       "      <td>2024-09-02 11:23:01</td>\n",
       "      <td>2024-09-02 11:23:01</td>\n",
       "      <td>2024-09-02 11:24:01</td>\n",
       "      <td>2024-09-02 11:24:07</td>\n",
       "      <td>-1 days +17:00:00</td>\n",
       "      <td>0 days 00:01:00</td>\n",
       "      <td>0 days 00:00:06</td>\n",
       "      <td>-1 days +17:01:06</td>\n",
       "    </tr>\n",
       "    <tr>\n",
       "      <th>8</th>\n",
       "      <td>010.184.24-73.004568</td>\n",
       "      <td>12409730984366</td>\n",
       "      <td>2024-09-01 09:56:02</td>\n",
       "      <td>2024-09-01 09:56:02</td>\n",
       "      <td>2024-09-01 09:57:02</td>\n",
       "      <td>2024-09-01 09:57:05</td>\n",
       "      <td>-1 days +17:00:00</td>\n",
       "      <td>0 days 00:01:00</td>\n",
       "      <td>0 days 00:00:03</td>\n",
       "      <td>-1 days +17:01:03</td>\n",
       "    </tr>\n",
       "  </tbody>\n",
       "</table>\n",
       "</div>"
      ],
      "text/plain": [
       "         invoice_number    payment_code   payment_date_ihub  \\\n",
       "0  010.184.24-73.004797  12409731012670 2024-09-07 11:21:00   \n",
       "1  000.184.24-73.017941  12409731012492 2024-09-07 10:53:00   \n",
       "2  010.184.24-73.004789  12409731012129 2024-09-07 10:10:01   \n",
       "3  000.184.24-73.017907  12409731009571 2024-09-06 16:27:34   \n",
       "4  000.184.24-73.017749  12409731002214 2024-09-05 09:50:01   \n",
       "5  010.184.24-73.004636  12409730995090 2024-09-03 16:12:00   \n",
       "6  010.184.24-73.004602  12409730992404 2024-09-03 10:11:00   \n",
       "7  010.184.24-73.004577  12409730987345 2024-09-02 11:23:01   \n",
       "8  010.184.24-73.004568  12409730984366 2024-09-01 09:56:02   \n",
       "\n",
       "       flagging_praya        sap_send_log        sap_complete  \\\n",
       "0 2024-09-07 11:21:00 2024-09-07 11:22:01 2024-09-07 11:22:04   \n",
       "1 2024-09-07 10:53:00 2024-09-07 10:54:01 2024-09-07 10:54:05   \n",
       "2 2024-09-07 10:10:01 2024-09-07 10:11:01 2024-09-07 10:14:27   \n",
       "3 2024-09-06 16:27:34 2024-09-06 16:28:39 2024-09-06 16:28:42   \n",
       "4 2024-09-05 09:50:01 2024-09-05 09:51:02 2024-09-05 09:51:05   \n",
       "5 2024-09-03 16:12:00 2024-09-03 16:13:01 2024-09-03 16:15:21   \n",
       "6 2024-09-03 10:11:00 2024-09-03 10:12:01 2024-09-03 10:16:40   \n",
       "7 2024-09-02 11:23:01 2024-09-02 11:24:01 2024-09-02 11:24:07   \n",
       "8 2024-09-01 09:56:02 2024-09-01 09:57:02 2024-09-01 09:57:05   \n",
       "\n",
       "  flagging_praya_delay  sap_send_delay sap_nofaktur_generate_time  \\\n",
       "0    -1 days +17:00:00 0 days 00:01:01            0 days 00:00:03   \n",
       "1    -1 days +17:00:00 0 days 00:01:01            0 days 00:00:04   \n",
       "2    -1 days +17:00:00 0 days 00:01:00            0 days 00:03:26   \n",
       "3    -1 days +17:00:00 0 days 00:01:05            0 days 00:00:03   \n",
       "4    -1 days +17:00:00 0 days 00:01:01            0 days 00:00:03   \n",
       "5    -1 days +17:00:00 0 days 00:01:01            0 days 00:02:20   \n",
       "6    -1 days +17:00:00 0 days 00:01:01            0 days 00:04:39   \n",
       "7    -1 days +17:00:00 0 days 00:01:00            0 days 00:00:06   \n",
       "8    -1 days +17:00:00 0 days 00:01:00            0 days 00:00:03   \n",
       "\n",
       "  total_time_to_print_invoice  \n",
       "0           -1 days +17:01:04  \n",
       "1           -1 days +17:01:05  \n",
       "2           -1 days +17:04:26  \n",
       "3           -1 days +17:01:08  \n",
       "4           -1 days +17:01:04  \n",
       "5           -1 days +17:03:21  \n",
       "6           -1 days +17:05:40  \n",
       "7           -1 days +17:01:06  \n",
       "8           -1 days +17:01:03  "
      ]
     },
     "execution_count": 49,
     "metadata": {},
     "output_type": "execute_result"
    }
   ],
   "source": [
    "# Check if there are same data (rows) in df_time_minus and df_flag_minus\n",
    "same_rows = df_time_minus.merge(df_flag_minus, how='inner')\n",
    "\n",
    "# Display the common rows\n",
    "same_rows"
   ]
  },
  {
   "cell_type": "code",
   "execution_count": 50,
   "metadata": {},
   "outputs": [],
   "source": [
    "df_pay_updated = df_pay_updated[df_pay_updated['flagging_praya_delay'].dt.total_seconds() >= 0]"
   ]
  },
  {
   "cell_type": "code",
   "execution_count": 51,
   "metadata": {},
   "outputs": [
    {
     "data": {
      "text/plain": [
       "(579, 10)"
      ]
     },
     "execution_count": 51,
     "metadata": {},
     "output_type": "execute_result"
    }
   ],
   "source": [
    "df_pay_updated.shape"
   ]
  },
  {
   "cell_type": "markdown",
   "metadata": {},
   "source": [
    "**findings**: ada beberapa data dengan nilai minus atau negative pada `flagging_praya` dan `total_time_to_print_invoice`. Oleh karena itu, data difilter untuk yang nilainya tidak negative saja."
   ]
  },
  {
   "cell_type": "code",
   "execution_count": 52,
   "metadata": {},
   "outputs": [
    {
     "data": {
      "text/plain": [
       "invoice_number                          object\n",
       "payment_code                             int64\n",
       "payment_date_ihub               datetime64[ns]\n",
       "flagging_praya                  datetime64[ns]\n",
       "sap_send_log                    datetime64[ns]\n",
       "sap_complete                    datetime64[ns]\n",
       "flagging_praya_delay           timedelta64[ns]\n",
       "sap_send_delay                 timedelta64[ns]\n",
       "sap_nofaktur_generate_time     timedelta64[ns]\n",
       "total_time_to_print_invoice    timedelta64[ns]\n",
       "dtype: object"
      ]
     },
     "execution_count": 52,
     "metadata": {},
     "output_type": "execute_result"
    }
   ],
   "source": [
    "df_pay_updated.dtypes"
   ]
  },
  {
   "cell_type": "code",
   "execution_count": 53,
   "metadata": {},
   "outputs": [
    {
     "data": {
      "text/plain": [
       "(10, 10)"
      ]
     },
     "execution_count": 53,
     "metadata": {},
     "output_type": "execute_result"
    }
   ],
   "source": [
    "df_pay_updated[df_pay_updated['sap_send_delay'].dt.total_seconds() / 3600 >= 1].shape"
   ]
  },
  {
   "cell_type": "code",
   "execution_count": 54,
   "metadata": {},
   "outputs": [
    {
     "data": {
      "text/html": [
       "<div>\n",
       "<style scoped>\n",
       "    .dataframe tbody tr th:only-of-type {\n",
       "        vertical-align: middle;\n",
       "    }\n",
       "\n",
       "    .dataframe tbody tr th {\n",
       "        vertical-align: top;\n",
       "    }\n",
       "\n",
       "    .dataframe thead th {\n",
       "        text-align: right;\n",
       "    }\n",
       "</style>\n",
       "<table border=\"1\" class=\"dataframe\">\n",
       "  <thead>\n",
       "    <tr style=\"text-align: right;\">\n",
       "      <th></th>\n",
       "      <th>invoice_number</th>\n",
       "      <th>payment_code</th>\n",
       "      <th>payment_date_ihub</th>\n",
       "      <th>flagging_praya</th>\n",
       "      <th>sap_send_log</th>\n",
       "      <th>sap_complete</th>\n",
       "      <th>flagging_praya_delay</th>\n",
       "      <th>sap_send_delay</th>\n",
       "      <th>sap_nofaktur_generate_time</th>\n",
       "      <th>total_time_to_print_invoice</th>\n",
       "    </tr>\n",
       "  </thead>\n",
       "  <tbody>\n",
       "    <tr>\n",
       "      <th>76</th>\n",
       "      <td>010.643.24-00.000277</td>\n",
       "      <td>12409731010615</td>\n",
       "      <td>2024-09-06 21:33:00</td>\n",
       "      <td>2024-09-07 04:33:24</td>\n",
       "      <td>2024-09-07 07:15:16</td>\n",
       "      <td>2024-09-07 07:15:19</td>\n",
       "      <td>0 days 00:00:24</td>\n",
       "      <td>0 days 02:41:52</td>\n",
       "      <td>0 days 00:00:03</td>\n",
       "      <td>0 days 02:42:19</td>\n",
       "    </tr>\n",
       "    <tr>\n",
       "      <th>77</th>\n",
       "      <td>010.643.24-00.000276</td>\n",
       "      <td>12409731010407</td>\n",
       "      <td>2024-09-06 14:23:00</td>\n",
       "      <td>2024-09-06 21:23:22</td>\n",
       "      <td>2024-09-07 06:53:57</td>\n",
       "      <td>2024-09-07 06:54:01</td>\n",
       "      <td>0 days 00:00:22</td>\n",
       "      <td>0 days 09:30:35</td>\n",
       "      <td>0 days 00:00:04</td>\n",
       "      <td>0 days 09:31:01</td>\n",
       "    </tr>\n",
       "    <tr>\n",
       "      <th>78</th>\n",
       "      <td>010.643.24-00.000275</td>\n",
       "      <td>12409731010392</td>\n",
       "      <td>2024-09-06 14:14:00</td>\n",
       "      <td>2024-09-06 21:14:31</td>\n",
       "      <td>2024-09-07 06:21:27</td>\n",
       "      <td>2024-09-07 06:21:31</td>\n",
       "      <td>0 days 00:00:31</td>\n",
       "      <td>0 days 09:06:56</td>\n",
       "      <td>0 days 00:00:04</td>\n",
       "      <td>0 days 09:07:31</td>\n",
       "    </tr>\n",
       "    <tr>\n",
       "      <th>184</th>\n",
       "      <td>010.183.24-74.038921</td>\n",
       "      <td>12409731000898</td>\n",
       "      <td>2024-09-05 01:46:00</td>\n",
       "      <td>2024-09-05 08:46:53</td>\n",
       "      <td>2024-09-05 13:28:30</td>\n",
       "      <td>2024-09-05 13:28:33</td>\n",
       "      <td>0 days 00:00:53</td>\n",
       "      <td>0 days 04:41:37</td>\n",
       "      <td>0 days 00:00:03</td>\n",
       "      <td>0 days 04:42:33</td>\n",
       "    </tr>\n",
       "    <tr>\n",
       "      <th>376</th>\n",
       "      <td>010.183.24-73.051838</td>\n",
       "      <td>12407730843413</td>\n",
       "      <td>2024-07-30 08:36:00</td>\n",
       "      <td>2024-07-30 15:36:16</td>\n",
       "      <td>2024-09-02 13:01:01</td>\n",
       "      <td>2024-09-02 13:01:08</td>\n",
       "      <td>0 days 00:00:16</td>\n",
       "      <td>33 days 21:24:45</td>\n",
       "      <td>0 days 00:00:07</td>\n",
       "      <td>33 days 21:25:08</td>\n",
       "    </tr>\n",
       "    <tr>\n",
       "      <th>385</th>\n",
       "      <td>010.643.24-01.000566</td>\n",
       "      <td>12407730765658</td>\n",
       "      <td>2024-07-12 02:43:00</td>\n",
       "      <td>2024-07-12 09:43:12</td>\n",
       "      <td>2024-09-02 10:56:57</td>\n",
       "      <td>2024-09-02 10:57:03</td>\n",
       "      <td>0 days 00:00:12</td>\n",
       "      <td>52 days 01:13:45</td>\n",
       "      <td>0 days 00:00:06</td>\n",
       "      <td>52 days 01:14:03</td>\n",
       "    </tr>\n",
       "    <tr>\n",
       "      <th>425</th>\n",
       "      <td>000.184.24-74.028062</td>\n",
       "      <td>12409731000973</td>\n",
       "      <td>2024-09-05 01:10:00</td>\n",
       "      <td>2024-09-05 08:10:23</td>\n",
       "      <td>2024-09-07 14:00:09</td>\n",
       "      <td>2024-09-07 14:00:13</td>\n",
       "      <td>0 days 00:00:23</td>\n",
       "      <td>2 days 05:49:46</td>\n",
       "      <td>0 days 00:00:04</td>\n",
       "      <td>2 days 05:50:13</td>\n",
       "    </tr>\n",
       "    <tr>\n",
       "      <th>456</th>\n",
       "      <td>010.184.24-74.005137</td>\n",
       "      <td>12409731001635</td>\n",
       "      <td>2024-09-05 01:51:00</td>\n",
       "      <td>2024-09-05 08:51:04</td>\n",
       "      <td>2024-09-07 09:54:17</td>\n",
       "      <td>2024-09-07 09:54:20</td>\n",
       "      <td>0 days 00:00:04</td>\n",
       "      <td>2 days 01:03:13</td>\n",
       "      <td>0 days 00:00:03</td>\n",
       "      <td>2 days 01:03:20</td>\n",
       "    </tr>\n",
       "    <tr>\n",
       "      <th>478</th>\n",
       "      <td>000.184.24-74.027865</td>\n",
       "      <td>12409731001567</td>\n",
       "      <td>2024-09-05 02:15:00</td>\n",
       "      <td>2024-09-05 09:15:32</td>\n",
       "      <td>2024-09-05 12:02:55</td>\n",
       "      <td>2024-09-05 12:02:59</td>\n",
       "      <td>0 days 00:00:32</td>\n",
       "      <td>0 days 02:47:23</td>\n",
       "      <td>0 days 00:00:04</td>\n",
       "      <td>0 days 02:47:59</td>\n",
       "    </tr>\n",
       "    <tr>\n",
       "      <th>523</th>\n",
       "      <td>000.184.24-74.027611</td>\n",
       "      <td>12409730991451</td>\n",
       "      <td>2024-09-03 01:41:00</td>\n",
       "      <td>2024-09-03 08:41:21</td>\n",
       "      <td>2024-09-03 14:11:39</td>\n",
       "      <td>2024-09-03 14:12:54</td>\n",
       "      <td>0 days 00:00:21</td>\n",
       "      <td>0 days 05:30:18</td>\n",
       "      <td>0 days 00:01:15</td>\n",
       "      <td>0 days 05:31:54</td>\n",
       "    </tr>\n",
       "  </tbody>\n",
       "</table>\n",
       "</div>"
      ],
      "text/plain": [
       "           invoice_number    payment_code   payment_date_ihub  \\\n",
       "76   010.643.24-00.000277  12409731010615 2024-09-06 21:33:00   \n",
       "77   010.643.24-00.000276  12409731010407 2024-09-06 14:23:00   \n",
       "78   010.643.24-00.000275  12409731010392 2024-09-06 14:14:00   \n",
       "184  010.183.24-74.038921  12409731000898 2024-09-05 01:46:00   \n",
       "376  010.183.24-73.051838  12407730843413 2024-07-30 08:36:00   \n",
       "385  010.643.24-01.000566  12407730765658 2024-07-12 02:43:00   \n",
       "425  000.184.24-74.028062  12409731000973 2024-09-05 01:10:00   \n",
       "456  010.184.24-74.005137  12409731001635 2024-09-05 01:51:00   \n",
       "478  000.184.24-74.027865  12409731001567 2024-09-05 02:15:00   \n",
       "523  000.184.24-74.027611  12409730991451 2024-09-03 01:41:00   \n",
       "\n",
       "         flagging_praya        sap_send_log        sap_complete  \\\n",
       "76  2024-09-07 04:33:24 2024-09-07 07:15:16 2024-09-07 07:15:19   \n",
       "77  2024-09-06 21:23:22 2024-09-07 06:53:57 2024-09-07 06:54:01   \n",
       "78  2024-09-06 21:14:31 2024-09-07 06:21:27 2024-09-07 06:21:31   \n",
       "184 2024-09-05 08:46:53 2024-09-05 13:28:30 2024-09-05 13:28:33   \n",
       "376 2024-07-30 15:36:16 2024-09-02 13:01:01 2024-09-02 13:01:08   \n",
       "385 2024-07-12 09:43:12 2024-09-02 10:56:57 2024-09-02 10:57:03   \n",
       "425 2024-09-05 08:10:23 2024-09-07 14:00:09 2024-09-07 14:00:13   \n",
       "456 2024-09-05 08:51:04 2024-09-07 09:54:17 2024-09-07 09:54:20   \n",
       "478 2024-09-05 09:15:32 2024-09-05 12:02:55 2024-09-05 12:02:59   \n",
       "523 2024-09-03 08:41:21 2024-09-03 14:11:39 2024-09-03 14:12:54   \n",
       "\n",
       "    flagging_praya_delay   sap_send_delay sap_nofaktur_generate_time  \\\n",
       "76       0 days 00:00:24  0 days 02:41:52            0 days 00:00:03   \n",
       "77       0 days 00:00:22  0 days 09:30:35            0 days 00:00:04   \n",
       "78       0 days 00:00:31  0 days 09:06:56            0 days 00:00:04   \n",
       "184      0 days 00:00:53  0 days 04:41:37            0 days 00:00:03   \n",
       "376      0 days 00:00:16 33 days 21:24:45            0 days 00:00:07   \n",
       "385      0 days 00:00:12 52 days 01:13:45            0 days 00:00:06   \n",
       "425      0 days 00:00:23  2 days 05:49:46            0 days 00:00:04   \n",
       "456      0 days 00:00:04  2 days 01:03:13            0 days 00:00:03   \n",
       "478      0 days 00:00:32  0 days 02:47:23            0 days 00:00:04   \n",
       "523      0 days 00:00:21  0 days 05:30:18            0 days 00:01:15   \n",
       "\n",
       "    total_time_to_print_invoice  \n",
       "76              0 days 02:42:19  \n",
       "77              0 days 09:31:01  \n",
       "78              0 days 09:07:31  \n",
       "184             0 days 04:42:33  \n",
       "376            33 days 21:25:08  \n",
       "385            52 days 01:14:03  \n",
       "425             2 days 05:50:13  \n",
       "456             2 days 01:03:20  \n",
       "478             0 days 02:47:59  \n",
       "523             0 days 05:31:54  "
      ]
     },
     "execution_count": 54,
     "metadata": {},
     "output_type": "execute_result"
    }
   ],
   "source": [
    "df_pay_updated[df_pay_updated['sap_send_delay'].dt.total_seconds() / 3600 >= 1]"
   ]
  },
  {
   "cell_type": "code",
   "execution_count": 55,
   "metadata": {},
   "outputs": [
    {
     "data": {
      "text/html": [
       "<div>\n",
       "<style scoped>\n",
       "    .dataframe tbody tr th:only-of-type {\n",
       "        vertical-align: middle;\n",
       "    }\n",
       "\n",
       "    .dataframe tbody tr th {\n",
       "        vertical-align: top;\n",
       "    }\n",
       "\n",
       "    .dataframe thead th {\n",
       "        text-align: right;\n",
       "    }\n",
       "</style>\n",
       "<table border=\"1\" class=\"dataframe\">\n",
       "  <thead>\n",
       "    <tr style=\"text-align: right;\">\n",
       "      <th></th>\n",
       "      <th>invoice_number</th>\n",
       "      <th>sap_send_log</th>\n",
       "      <th>flagging_praya</th>\n",
       "      <th>sap_send_delay</th>\n",
       "      <th>difference</th>\n",
       "    </tr>\n",
       "  </thead>\n",
       "  <tbody>\n",
       "    <tr>\n",
       "      <th>474</th>\n",
       "      <td>000.184.24-77.011215</td>\n",
       "      <td>2024-09-05 15:15:01</td>\n",
       "      <td>2024-09-05 15:14:00</td>\n",
       "      <td>0 days 00:01:01</td>\n",
       "      <td>0 days 00:01:01</td>\n",
       "    </tr>\n",
       "    <tr>\n",
       "      <th>261</th>\n",
       "      <td>010.183.24-73.061666</td>\n",
       "      <td>2024-09-04 09:41:17</td>\n",
       "      <td>2024-09-04 09:40:12</td>\n",
       "      <td>0 days 00:01:05</td>\n",
       "      <td>0 days 00:01:05</td>\n",
       "    </tr>\n",
       "    <tr>\n",
       "      <th>16</th>\n",
       "      <td>010.182.24-01.011647</td>\n",
       "      <td>2024-09-08 11:26:03</td>\n",
       "      <td>2024-09-08 11:25:00</td>\n",
       "      <td>0 days 00:01:03</td>\n",
       "      <td>0 days 00:01:03</td>\n",
       "    </tr>\n",
       "    <tr>\n",
       "      <th>465</th>\n",
       "      <td>000.184.24-77.011228</td>\n",
       "      <td>2024-09-06 10:48:01</td>\n",
       "      <td>2024-09-06 10:47:01</td>\n",
       "      <td>0 days 00:01:00</td>\n",
       "      <td>0 days 00:01:00</td>\n",
       "    </tr>\n",
       "    <tr>\n",
       "      <th>337</th>\n",
       "      <td>010.643.24-73.041680</td>\n",
       "      <td>2024-09-02 22:21:03</td>\n",
       "      <td>2024-09-02 22:20:00</td>\n",
       "      <td>0 days 00:01:03</td>\n",
       "      <td>0 days 00:01:03</td>\n",
       "    </tr>\n",
       "  </tbody>\n",
       "</table>\n",
       "</div>"
      ],
      "text/plain": [
       "           invoice_number        sap_send_log      flagging_praya  \\\n",
       "474  000.184.24-77.011215 2024-09-05 15:15:01 2024-09-05 15:14:00   \n",
       "261  010.183.24-73.061666 2024-09-04 09:41:17 2024-09-04 09:40:12   \n",
       "16   010.182.24-01.011647 2024-09-08 11:26:03 2024-09-08 11:25:00   \n",
       "465  000.184.24-77.011228 2024-09-06 10:48:01 2024-09-06 10:47:01   \n",
       "337  010.643.24-73.041680 2024-09-02 22:21:03 2024-09-02 22:20:00   \n",
       "\n",
       "     sap_send_delay      difference  \n",
       "474 0 days 00:01:01 0 days 00:01:01  \n",
       "261 0 days 00:01:05 0 days 00:01:05  \n",
       "16  0 days 00:01:03 0 days 00:01:03  \n",
       "465 0 days 00:01:00 0 days 00:01:00  \n",
       "337 0 days 00:01:03 0 days 00:01:03  "
      ]
     },
     "execution_count": 55,
     "metadata": {},
     "output_type": "execute_result"
    }
   ],
   "source": [
    "df_pay_temp = df_pay_updated.copy()\n",
    "df_pay_temp['difference'] = df_pay_temp['sap_send_log'] - df_pay_temp['flagging_praya']\n",
    "\n",
    "# Tampilkan hasil\n",
    "df_pay_temp[['invoice_number', 'sap_send_log', 'flagging_praya', 'sap_send_delay','difference']].sample(5)"
   ]
  },
  {
   "cell_type": "code",
   "execution_count": 56,
   "metadata": {},
   "outputs": [
    {
     "data": {
      "text/html": [
       "<div>\n",
       "<style scoped>\n",
       "    .dataframe tbody tr th:only-of-type {\n",
       "        vertical-align: middle;\n",
       "    }\n",
       "\n",
       "    .dataframe tbody tr th {\n",
       "        vertical-align: top;\n",
       "    }\n",
       "\n",
       "    .dataframe thead th {\n",
       "        text-align: right;\n",
       "    }\n",
       "</style>\n",
       "<table border=\"1\" class=\"dataframe\">\n",
       "  <thead>\n",
       "    <tr style=\"text-align: right;\">\n",
       "      <th></th>\n",
       "      <th>invoice_number</th>\n",
       "      <th>payment_code</th>\n",
       "      <th>payment_date_ihub</th>\n",
       "      <th>flagging_praya</th>\n",
       "      <th>sap_send_log</th>\n",
       "      <th>sap_complete</th>\n",
       "      <th>flagging_praya_delay</th>\n",
       "      <th>sap_send_delay</th>\n",
       "      <th>sap_nofaktur_generate_time</th>\n",
       "      <th>total_time_to_print_invoice</th>\n",
       "    </tr>\n",
       "  </thead>\n",
       "  <tbody>\n",
       "    <tr>\n",
       "      <th>76</th>\n",
       "      <td>010.643.24-00.000277</td>\n",
       "      <td>12409731010615</td>\n",
       "      <td>2024-09-06 21:33:00</td>\n",
       "      <td>2024-09-07 04:33:24</td>\n",
       "      <td>2024-09-07 07:15:16</td>\n",
       "      <td>2024-09-07 07:15:19</td>\n",
       "      <td>0 days 00:00:24</td>\n",
       "      <td>0 days 02:41:52</td>\n",
       "      <td>0 days 00:00:03</td>\n",
       "      <td>0 days 02:42:19</td>\n",
       "    </tr>\n",
       "    <tr>\n",
       "      <th>77</th>\n",
       "      <td>010.643.24-00.000276</td>\n",
       "      <td>12409731010407</td>\n",
       "      <td>2024-09-06 14:23:00</td>\n",
       "      <td>2024-09-06 21:23:22</td>\n",
       "      <td>2024-09-07 06:53:57</td>\n",
       "      <td>2024-09-07 06:54:01</td>\n",
       "      <td>0 days 00:00:22</td>\n",
       "      <td>0 days 09:30:35</td>\n",
       "      <td>0 days 00:00:04</td>\n",
       "      <td>0 days 09:31:01</td>\n",
       "    </tr>\n",
       "    <tr>\n",
       "      <th>78</th>\n",
       "      <td>010.643.24-00.000275</td>\n",
       "      <td>12409731010392</td>\n",
       "      <td>2024-09-06 14:14:00</td>\n",
       "      <td>2024-09-06 21:14:31</td>\n",
       "      <td>2024-09-07 06:21:27</td>\n",
       "      <td>2024-09-07 06:21:31</td>\n",
       "      <td>0 days 00:00:31</td>\n",
       "      <td>0 days 09:06:56</td>\n",
       "      <td>0 days 00:00:04</td>\n",
       "      <td>0 days 09:07:31</td>\n",
       "    </tr>\n",
       "    <tr>\n",
       "      <th>184</th>\n",
       "      <td>010.183.24-74.038921</td>\n",
       "      <td>12409731000898</td>\n",
       "      <td>2024-09-05 01:46:00</td>\n",
       "      <td>2024-09-05 08:46:53</td>\n",
       "      <td>2024-09-05 13:28:30</td>\n",
       "      <td>2024-09-05 13:28:33</td>\n",
       "      <td>0 days 00:00:53</td>\n",
       "      <td>0 days 04:41:37</td>\n",
       "      <td>0 days 00:00:03</td>\n",
       "      <td>0 days 04:42:33</td>\n",
       "    </tr>\n",
       "    <tr>\n",
       "      <th>376</th>\n",
       "      <td>010.183.24-73.051838</td>\n",
       "      <td>12407730843413</td>\n",
       "      <td>2024-07-30 08:36:00</td>\n",
       "      <td>2024-07-30 15:36:16</td>\n",
       "      <td>2024-09-02 13:01:01</td>\n",
       "      <td>2024-09-02 13:01:08</td>\n",
       "      <td>0 days 00:00:16</td>\n",
       "      <td>33 days 21:24:45</td>\n",
       "      <td>0 days 00:00:07</td>\n",
       "      <td>33 days 21:25:08</td>\n",
       "    </tr>\n",
       "    <tr>\n",
       "      <th>385</th>\n",
       "      <td>010.643.24-01.000566</td>\n",
       "      <td>12407730765658</td>\n",
       "      <td>2024-07-12 02:43:00</td>\n",
       "      <td>2024-07-12 09:43:12</td>\n",
       "      <td>2024-09-02 10:56:57</td>\n",
       "      <td>2024-09-02 10:57:03</td>\n",
       "      <td>0 days 00:00:12</td>\n",
       "      <td>52 days 01:13:45</td>\n",
       "      <td>0 days 00:00:06</td>\n",
       "      <td>52 days 01:14:03</td>\n",
       "    </tr>\n",
       "    <tr>\n",
       "      <th>425</th>\n",
       "      <td>000.184.24-74.028062</td>\n",
       "      <td>12409731000973</td>\n",
       "      <td>2024-09-05 01:10:00</td>\n",
       "      <td>2024-09-05 08:10:23</td>\n",
       "      <td>2024-09-07 14:00:09</td>\n",
       "      <td>2024-09-07 14:00:13</td>\n",
       "      <td>0 days 00:00:23</td>\n",
       "      <td>2 days 05:49:46</td>\n",
       "      <td>0 days 00:00:04</td>\n",
       "      <td>2 days 05:50:13</td>\n",
       "    </tr>\n",
       "    <tr>\n",
       "      <th>456</th>\n",
       "      <td>010.184.24-74.005137</td>\n",
       "      <td>12409731001635</td>\n",
       "      <td>2024-09-05 01:51:00</td>\n",
       "      <td>2024-09-05 08:51:04</td>\n",
       "      <td>2024-09-07 09:54:17</td>\n",
       "      <td>2024-09-07 09:54:20</td>\n",
       "      <td>0 days 00:00:04</td>\n",
       "      <td>2 days 01:03:13</td>\n",
       "      <td>0 days 00:00:03</td>\n",
       "      <td>2 days 01:03:20</td>\n",
       "    </tr>\n",
       "    <tr>\n",
       "      <th>478</th>\n",
       "      <td>000.184.24-74.027865</td>\n",
       "      <td>12409731001567</td>\n",
       "      <td>2024-09-05 02:15:00</td>\n",
       "      <td>2024-09-05 09:15:32</td>\n",
       "      <td>2024-09-05 12:02:55</td>\n",
       "      <td>2024-09-05 12:02:59</td>\n",
       "      <td>0 days 00:00:32</td>\n",
       "      <td>0 days 02:47:23</td>\n",
       "      <td>0 days 00:00:04</td>\n",
       "      <td>0 days 02:47:59</td>\n",
       "    </tr>\n",
       "    <tr>\n",
       "      <th>523</th>\n",
       "      <td>000.184.24-74.027611</td>\n",
       "      <td>12409730991451</td>\n",
       "      <td>2024-09-03 01:41:00</td>\n",
       "      <td>2024-09-03 08:41:21</td>\n",
       "      <td>2024-09-03 14:11:39</td>\n",
       "      <td>2024-09-03 14:12:54</td>\n",
       "      <td>0 days 00:00:21</td>\n",
       "      <td>0 days 05:30:18</td>\n",
       "      <td>0 days 00:01:15</td>\n",
       "      <td>0 days 05:31:54</td>\n",
       "    </tr>\n",
       "  </tbody>\n",
       "</table>\n",
       "</div>"
      ],
      "text/plain": [
       "           invoice_number    payment_code   payment_date_ihub  \\\n",
       "76   010.643.24-00.000277  12409731010615 2024-09-06 21:33:00   \n",
       "77   010.643.24-00.000276  12409731010407 2024-09-06 14:23:00   \n",
       "78   010.643.24-00.000275  12409731010392 2024-09-06 14:14:00   \n",
       "184  010.183.24-74.038921  12409731000898 2024-09-05 01:46:00   \n",
       "376  010.183.24-73.051838  12407730843413 2024-07-30 08:36:00   \n",
       "385  010.643.24-01.000566  12407730765658 2024-07-12 02:43:00   \n",
       "425  000.184.24-74.028062  12409731000973 2024-09-05 01:10:00   \n",
       "456  010.184.24-74.005137  12409731001635 2024-09-05 01:51:00   \n",
       "478  000.184.24-74.027865  12409731001567 2024-09-05 02:15:00   \n",
       "523  000.184.24-74.027611  12409730991451 2024-09-03 01:41:00   \n",
       "\n",
       "         flagging_praya        sap_send_log        sap_complete  \\\n",
       "76  2024-09-07 04:33:24 2024-09-07 07:15:16 2024-09-07 07:15:19   \n",
       "77  2024-09-06 21:23:22 2024-09-07 06:53:57 2024-09-07 06:54:01   \n",
       "78  2024-09-06 21:14:31 2024-09-07 06:21:27 2024-09-07 06:21:31   \n",
       "184 2024-09-05 08:46:53 2024-09-05 13:28:30 2024-09-05 13:28:33   \n",
       "376 2024-07-30 15:36:16 2024-09-02 13:01:01 2024-09-02 13:01:08   \n",
       "385 2024-07-12 09:43:12 2024-09-02 10:56:57 2024-09-02 10:57:03   \n",
       "425 2024-09-05 08:10:23 2024-09-07 14:00:09 2024-09-07 14:00:13   \n",
       "456 2024-09-05 08:51:04 2024-09-07 09:54:17 2024-09-07 09:54:20   \n",
       "478 2024-09-05 09:15:32 2024-09-05 12:02:55 2024-09-05 12:02:59   \n",
       "523 2024-09-03 08:41:21 2024-09-03 14:11:39 2024-09-03 14:12:54   \n",
       "\n",
       "    flagging_praya_delay   sap_send_delay sap_nofaktur_generate_time  \\\n",
       "76       0 days 00:00:24  0 days 02:41:52            0 days 00:00:03   \n",
       "77       0 days 00:00:22  0 days 09:30:35            0 days 00:00:04   \n",
       "78       0 days 00:00:31  0 days 09:06:56            0 days 00:00:04   \n",
       "184      0 days 00:00:53  0 days 04:41:37            0 days 00:00:03   \n",
       "376      0 days 00:00:16 33 days 21:24:45            0 days 00:00:07   \n",
       "385      0 days 00:00:12 52 days 01:13:45            0 days 00:00:06   \n",
       "425      0 days 00:00:23  2 days 05:49:46            0 days 00:00:04   \n",
       "456      0 days 00:00:04  2 days 01:03:13            0 days 00:00:03   \n",
       "478      0 days 00:00:32  0 days 02:47:23            0 days 00:00:04   \n",
       "523      0 days 00:00:21  0 days 05:30:18            0 days 00:01:15   \n",
       "\n",
       "    total_time_to_print_invoice  \n",
       "76              0 days 02:42:19  \n",
       "77              0 days 09:31:01  \n",
       "78              0 days 09:07:31  \n",
       "184             0 days 04:42:33  \n",
       "376            33 days 21:25:08  \n",
       "385            52 days 01:14:03  \n",
       "425             2 days 05:50:13  \n",
       "456             2 days 01:03:20  \n",
       "478             0 days 02:47:59  \n",
       "523             0 days 05:31:54  "
      ]
     },
     "execution_count": 56,
     "metadata": {},
     "output_type": "execute_result"
    }
   ],
   "source": [
    "df_pay_updated[df_pay_updated['total_time_to_print_invoice'].dt.total_seconds() / 3600 >= 1]"
   ]
  },
  {
   "cell_type": "markdown",
   "metadata": {},
   "source": [
    "**findings**: ada 10 data yang memiliki nilai `sap_send_delay` diatas satu jam yang terkesan anomali. Namun, hasil tersebut sesuai dengan formula **sap_send_log - flagging praya**. Diketahui juga bahwa ketika sap_send_delay lebih dari satu jam, maka time_to_print_invoice juga akan lebih dari satu jam."
   ]
  },
  {
   "cell_type": "code",
   "execution_count": 57,
   "metadata": {},
   "outputs": [
    {
     "name": "stderr",
     "output_type": "stream",
     "text": [
      "C:\\Users\\Lenovo\\AppData\\Local\\Temp\\ipykernel_11640\\1907638896.py:5: SettingWithCopyWarning: \n",
      "A value is trying to be set on a copy of a slice from a DataFrame.\n",
      "Try using .loc[row_indexer,col_indexer] = value instead\n",
      "\n",
      "See the caveats in the documentation: https://pandas.pydata.org/pandas-docs/stable/user_guide/indexing.html#returning-a-view-versus-a-copy\n",
      "  df_filtered['invoice_print_time_category'] = pd.cut(\n"
     ]
    },
    {
     "data": {
      "image/png": "[encoded data removed]",
      "text/plain": [
       "<Figure size 1000x600 with 1 Axes>"
      ]
     },
     "metadata": {},
     "output_type": "display_data"
    }
   ],
   "source": [
    "# Filter data yang memiliki sap_send_delay di atas 1 jam\n",
    "df_filtered = df_pay_updated[df_pay_updated['sap_send_delay'] > pd.Timedelta(hours=1)]\n",
    "\n",
    "# Buat kolom untuk kategori berdasarkan total_time_to_print_invoice\n",
    "df_filtered['invoice_print_time_category'] = pd.cut(\n",
    "    df_filtered['total_time_to_print_invoice'].dt.total_seconds() / 3600,\n",
    "    bins=[0, 1, 2, 3, 4, float('inf')],\n",
    "    labels=['1-2 hours', '2-3 hours', '3-4 hours', '4-5 hours', '> 5 hours']\n",
    ")\n",
    "\n",
    "# Hitung jumlah data per kategori\n",
    "data_counts = df_filtered['invoice_print_time_category'].value_counts().sort_index()\n",
    "\n",
    "# Buat bar plot\n",
    "plt.figure(figsize=(10, 6))\n",
    "data_counts.plot(kind='bar', color='skyblue')\n",
    "\n",
    "plt.title('Jeda pengiriman nota praya ke SAP > 1 Jam Berdasarkan Total Lamanya Nota dapat dicetak sejak customer melakukan pembayaran')\n",
    "plt.xlabel('Total lamanya nota dapat dicetak sejak customer melakukan pembayaran')\n",
    "plt.ylabel('Jumlah Data')\n",
    "plt.xticks(rotation=45)\n",
    "plt.grid(axis='y')\n",
    "\n",
    "plt.show()"
   ]
  },
  {
   "cell_type": "code",
   "execution_count": 58,
   "metadata": {},
   "outputs": [
    {
     "data": {
      "image/png": "[encoded data removed]",
      "text/plain": [
       "<Figure size 1000x600 with 1 Axes>"
      ]
     },
     "metadata": {},
     "output_type": "display_data"
    }
   ],
   "source": [
    "plt.figure(figsize=(10, 6))\n",
    "sns.scatterplot(x=df_pay_updated['sap_send_delay'].dt.total_seconds() / 3600,  # Convert to hours\n",
    "                y=df_pay_updated['total_time_to_print_invoice'].dt.total_seconds() / 3600,  # Convert to hours\n",
    "                hue=df_pay_updated['sap_send_delay'].dt.total_seconds() > 3600,  # Highlight delays > 1 hour\n",
    "                palette={True: 'red', False: 'blue'}, \n",
    "                s=100)\n",
    "\n",
    "plt.axvline(x=1, color='gray', linestyle='--')  # Garis vertikal pada 1 jam\n",
    "plt.axhline(y=1, color='gray', linestyle='--')  # Garis horizontal pada 1 jam\n",
    "\n",
    "plt.title('Relationship between SAP Send Delay and Time to Print Invoice')\n",
    "plt.xlabel('SAP Send Delay (hours)')\n",
    "plt.ylabel('Total Time to Print Invoice (hours)')\n",
    "plt.legend(title='SAP Send Delay > 1 hour', loc='upper left')\n",
    "plt.grid(True)\n",
    "plt.show()"
   ]
  },
  {
   "cell_type": "code",
   "execution_count": 59,
   "metadata": {},
   "outputs": [],
   "source": [
    "# add 7 hours due to server time\n",
    "df_pay_updated['payment_date_ihub'] = df_pay_updated['payment_date_ihub'] + pd.to_timedelta(7, unit='hours')"
   ]
  },
  {
   "cell_type": "code",
   "execution_count": 60,
   "metadata": {},
   "outputs": [
    {
     "data": {
      "text/html": [
       "<div>\n",
       "<style scoped>\n",
       "    .dataframe tbody tr th:only-of-type {\n",
       "        vertical-align: middle;\n",
       "    }\n",
       "\n",
       "    .dataframe tbody tr th {\n",
       "        vertical-align: top;\n",
       "    }\n",
       "\n",
       "    .dataframe thead th {\n",
       "        text-align: right;\n",
       "    }\n",
       "</style>\n",
       "<table border=\"1\" class=\"dataframe\">\n",
       "  <thead>\n",
       "    <tr style=\"text-align: right;\">\n",
       "      <th></th>\n",
       "      <th>invoice_number</th>\n",
       "      <th>sap_complete</th>\n",
       "      <th>payment_date_ihub</th>\n",
       "      <th>total_time_to_print_invoice</th>\n",
       "      <th>difference</th>\n",
       "    </tr>\n",
       "  </thead>\n",
       "  <tbody>\n",
       "    <tr>\n",
       "      <th>389</th>\n",
       "      <td>010.183.24-73.061112</td>\n",
       "      <td>2024-09-02 10:05:23</td>\n",
       "      <td>2024-09-02 10:04:00</td>\n",
       "      <td>0 days 00:01:23</td>\n",
       "      <td>0 days 00:01:23</td>\n",
       "    </tr>\n",
       "    <tr>\n",
       "      <th>344</th>\n",
       "      <td>010.182.24-01.010908</td>\n",
       "      <td>2024-09-02 15:49:12</td>\n",
       "      <td>2024-09-02 15:48:00</td>\n",
       "      <td>0 days 00:01:12</td>\n",
       "      <td>0 days 00:01:12</td>\n",
       "    </tr>\n",
       "    <tr>\n",
       "      <th>295</th>\n",
       "      <td>010.182.24-73.001348</td>\n",
       "      <td>2024-09-03 15:17:38</td>\n",
       "      <td>2024-09-03 15:16:00</td>\n",
       "      <td>0 days 00:01:38</td>\n",
       "      <td>0 days 00:01:38</td>\n",
       "    </tr>\n",
       "    <tr>\n",
       "      <th>80</th>\n",
       "      <td>010.182.24-01.011507</td>\n",
       "      <td>2024-09-06 22:23:06</td>\n",
       "      <td>2024-09-06 22:22:00</td>\n",
       "      <td>0 days 00:01:06</td>\n",
       "      <td>0 days 00:01:06</td>\n",
       "    </tr>\n",
       "    <tr>\n",
       "      <th>530</th>\n",
       "      <td>000.184.24-77.011098</td>\n",
       "      <td>2024-09-03 11:59:06</td>\n",
       "      <td>2024-09-03 11:58:00</td>\n",
       "      <td>0 days 00:01:06</td>\n",
       "      <td>0 days 00:01:06</td>\n",
       "    </tr>\n",
       "  </tbody>\n",
       "</table>\n",
       "</div>"
      ],
      "text/plain": [
       "           invoice_number        sap_complete   payment_date_ihub  \\\n",
       "389  010.183.24-73.061112 2024-09-02 10:05:23 2024-09-02 10:04:00   \n",
       "344  010.182.24-01.010908 2024-09-02 15:49:12 2024-09-02 15:48:00   \n",
       "295  010.182.24-73.001348 2024-09-03 15:17:38 2024-09-03 15:16:00   \n",
       "80   010.182.24-01.011507 2024-09-06 22:23:06 2024-09-06 22:22:00   \n",
       "530  000.184.24-77.011098 2024-09-03 11:59:06 2024-09-03 11:58:00   \n",
       "\n",
       "    total_time_to_print_invoice      difference  \n",
       "389             0 days 00:01:23 0 days 00:01:23  \n",
       "344             0 days 00:01:12 0 days 00:01:12  \n",
       "295             0 days 00:01:38 0 days 00:01:38  \n",
       "80              0 days 00:01:06 0 days 00:01:06  \n",
       "530             0 days 00:01:06 0 days 00:01:06  "
      ]
     },
     "execution_count": 60,
     "metadata": {},
     "output_type": "execute_result"
    }
   ],
   "source": [
    "df_pay_temp = df_pay_updated.copy()\n",
    "df_pay_temp['difference'] = df_pay_temp['sap_complete'] - df_pay_temp['payment_date_ihub']\n",
    "\n",
    "# Tampilkan hasil\n",
    "df_pay_temp[['invoice_number', 'sap_complete', 'payment_date_ihub', 'total_time_to_print_invoice', 'difference']].sample(5)"
   ]
  },
  {
   "cell_type": "code",
   "execution_count": 61,
   "metadata": {},
   "outputs": [
    {
     "data": {
      "text/html": [
       "<div>\n",
       "<style scoped>\n",
       "    .dataframe tbody tr th:only-of-type {\n",
       "        vertical-align: middle;\n",
       "    }\n",
       "\n",
       "    .dataframe tbody tr th {\n",
       "        vertical-align: top;\n",
       "    }\n",
       "\n",
       "    .dataframe thead th {\n",
       "        text-align: right;\n",
       "    }\n",
       "</style>\n",
       "<table border=\"1\" class=\"dataframe\">\n",
       "  <thead>\n",
       "    <tr style=\"text-align: right;\">\n",
       "      <th></th>\n",
       "      <th>invoice_number</th>\n",
       "      <th>flagging_praya</th>\n",
       "      <th>payment_date_ihub</th>\n",
       "      <th>flagging_praya_delay</th>\n",
       "      <th>difference</th>\n",
       "    </tr>\n",
       "  </thead>\n",
       "  <tbody>\n",
       "    <tr>\n",
       "      <th>158</th>\n",
       "      <td>010.643.24-74.028784</td>\n",
       "      <td>2024-09-05 17:38:02</td>\n",
       "      <td>2024-09-05 17:38:00</td>\n",
       "      <td>0 days 00:00:02</td>\n",
       "      <td>0 days 00:00:02</td>\n",
       "    </tr>\n",
       "    <tr>\n",
       "      <th>249</th>\n",
       "      <td>010.643.24-77.009175</td>\n",
       "      <td>2024-09-04 13:36:01</td>\n",
       "      <td>2024-09-04 13:36:00</td>\n",
       "      <td>0 days 00:00:01</td>\n",
       "      <td>0 days 00:00:01</td>\n",
       "    </tr>\n",
       "    <tr>\n",
       "      <th>261</th>\n",
       "      <td>010.183.24-73.061666</td>\n",
       "      <td>2024-09-04 09:40:12</td>\n",
       "      <td>2024-09-04 09:40:00</td>\n",
       "      <td>0 days 00:00:12</td>\n",
       "      <td>0 days 00:00:12</td>\n",
       "    </tr>\n",
       "    <tr>\n",
       "      <th>481</th>\n",
       "      <td>010.184.24-73.004703</td>\n",
       "      <td>2024-09-05 10:40:01</td>\n",
       "      <td>2024-09-05 10:40:00</td>\n",
       "      <td>0 days 00:00:01</td>\n",
       "      <td>0 days 00:00:01</td>\n",
       "    </tr>\n",
       "    <tr>\n",
       "      <th>579</th>\n",
       "      <td>000.184.24-73.017538</td>\n",
       "      <td>2024-09-02 09:21:00</td>\n",
       "      <td>2024-09-02 09:20:00</td>\n",
       "      <td>0 days 00:01:00</td>\n",
       "      <td>0 days 00:01:00</td>\n",
       "    </tr>\n",
       "  </tbody>\n",
       "</table>\n",
       "</div>"
      ],
      "text/plain": [
       "           invoice_number      flagging_praya   payment_date_ihub  \\\n",
       "158  010.643.24-74.028784 2024-09-05 17:38:02 2024-09-05 17:38:00   \n",
       "249  010.643.24-77.009175 2024-09-04 13:36:01 2024-09-04 13:36:00   \n",
       "261  010.183.24-73.061666 2024-09-04 09:40:12 2024-09-04 09:40:00   \n",
       "481  010.184.24-73.004703 2024-09-05 10:40:01 2024-09-05 10:40:00   \n",
       "579  000.184.24-73.017538 2024-09-02 09:21:00 2024-09-02 09:20:00   \n",
       "\n",
       "    flagging_praya_delay      difference  \n",
       "158      0 days 00:00:02 0 days 00:00:02  \n",
       "249      0 days 00:00:01 0 days 00:00:01  \n",
       "261      0 days 00:00:12 0 days 00:00:12  \n",
       "481      0 days 00:00:01 0 days 00:00:01  \n",
       "579      0 days 00:01:00 0 days 00:01:00  "
      ]
     },
     "execution_count": 61,
     "metadata": {},
     "output_type": "execute_result"
    }
   ],
   "source": [
    "df_pay_temp = df_pay_updated.copy()\n",
    "df_pay_temp['difference'] = df_pay_temp['flagging_praya'] - df_pay_temp['payment_date_ihub']\n",
    "\n",
    "# Tampilkan hasil\n",
    "df_pay_temp[['invoice_number', 'flagging_praya', 'payment_date_ihub', 'flagging_praya_delay', 'difference']].sample(5)"
   ]
  },
  {
   "cell_type": "markdown",
   "metadata": {},
   "source": [
    "## Formula Conclusion\n",
    "\n",
    "1. Jeda flagging lunas di PRAYA dari saat customer melakukan payment\n",
    "    \n",
    "    `flagging_praya_delay = flagging_praya - payment_date_ihub`\n",
    "\n",
    "2. Jeda pengiriman nota praya ke SAP\n",
    "\n",
    "    `sap_send_delay = sap_send_log - flagging praya`\n",
    "\n",
    "3. Lama Proses Generate No Faktur di SAP\n",
    "    \n",
    "    `sap_nofaktur_generate_time = sap_complete - sap_send_log`\n",
    "\n",
    "4. Total Lamanya Nota dapat dicetak sejak customer melakukan pembayaran\n",
    "\n",
    "    `total_time_to_print_invoice = sap_complete - payment_date_ihub`"
   ]
  },
  {
   "cell_type": "markdown",
   "metadata": {},
   "source": [
    "## EDA"
   ]
  },
  {
   "cell_type": "code",
   "execution_count": 62,
   "metadata": {},
   "outputs": [
    {
     "name": "stdout",
     "output_type": "stream",
     "text": [
      "flagging_praya_delay: 0 days 00:00:09.487046632\n",
      "sap_send_delay: 0 days 03:49:01.378238341\n",
      "sap_nofaktur_generate_time: 0 days 00:00:28.799654576\n",
      "total_time_to_print_invoice: 0 days 03:49:39.664939550\n"
     ]
    }
   ],
   "source": [
    "columns = ['flagging_praya_delay', 'sap_send_delay', 'sap_nofaktur_generate_time', 'total_time_to_print_invoice']\n",
    "\n",
    "# Calculate the average durations\n",
    "avg_durations = {col: df_pay_updated[col].mean() for col in columns}\n",
    "\n",
    "# Print the average durations\n",
    "for col, avg_duration in avg_durations.items():\n",
    "    print(f\"{col}: {avg_duration}\")"
   ]
  },
  {
   "cell_type": "code",
   "execution_count": 63,
   "metadata": {},
   "outputs": [],
   "source": [
    "df_under_ahour = df_pay_updated[df_pay_updated['sap_send_delay'] < pd.Timedelta(hours=1)]"
   ]
  },
  {
   "cell_type": "code",
   "execution_count": 64,
   "metadata": {},
   "outputs": [
    {
     "name": "stdout",
     "output_type": "stream",
     "text": [
      "flagging_praya_delay: 0 days 00:00:09.235500878\n",
      "sap_send_delay: 0 days 00:01:04.759226713\n",
      "sap_nofaktur_generate_time: 0 days 00:00:29.107205623\n",
      "total_time_to_print_invoice: 0 days 00:01:43.101933216\n"
     ]
    }
   ],
   "source": [
    "columns = ['flagging_praya_delay', 'sap_send_delay', 'sap_nofaktur_generate_time', 'total_time_to_print_invoice']\n",
    "\n",
    "# Calculate the average durations\n",
    "avg_durations = {col: df_under_ahour[col].mean() for col in columns}\n",
    "\n",
    "# Print the average durations\n",
    "for col, avg_duration in avg_durations.items():\n",
    "    print(f\"{col}: {avg_duration}\")"
   ]
  },
  {
   "cell_type": "code",
   "execution_count": 65,
   "metadata": {},
   "outputs": [
    {
     "data": {
      "text/html": [
       "<div>\n",
       "<style scoped>\n",
       "    .dataframe tbody tr th:only-of-type {\n",
       "        vertical-align: middle;\n",
       "    }\n",
       "\n",
       "    .dataframe tbody tr th {\n",
       "        vertical-align: top;\n",
       "    }\n",
       "\n",
       "    .dataframe thead th {\n",
       "        text-align: right;\n",
       "    }\n",
       "</style>\n",
       "<table border=\"1\" class=\"dataframe\">\n",
       "  <thead>\n",
       "    <tr style=\"text-align: right;\">\n",
       "      <th></th>\n",
       "      <th>invoice_number</th>\n",
       "      <th>payment_code</th>\n",
       "      <th>payment_date_ihub</th>\n",
       "      <th>flagging_praya</th>\n",
       "      <th>sap_send_log</th>\n",
       "      <th>sap_complete</th>\n",
       "      <th>flagging_praya_delay</th>\n",
       "      <th>sap_send_delay</th>\n",
       "      <th>sap_nofaktur_generate_time</th>\n",
       "      <th>total_time_to_print_invoice</th>\n",
       "    </tr>\n",
       "  </thead>\n",
       "  <tbody>\n",
       "  </tbody>\n",
       "</table>\n",
       "</div>"
      ],
      "text/plain": [
       "Empty DataFrame\n",
       "Columns: [invoice_number, payment_code, payment_date_ihub, flagging_praya, sap_send_log, sap_complete, flagging_praya_delay, sap_send_delay, sap_nofaktur_generate_time, total_time_to_print_invoice]\n",
       "Index: []"
      ]
     },
     "execution_count": 65,
     "metadata": {},
     "output_type": "execute_result"
    }
   ],
   "source": [
    "df_pay_updated[~((df_pay_updated['sap_complete'].dt.year == 2024) & (df_pay_updated['sap_complete'].dt.month == 9))]"
   ]
  },
  {
   "cell_type": "code",
   "execution_count": 66,
   "metadata": {},
   "outputs": [
    {
     "data": {
      "text/plain": [
       "array([datetime.date(2024, 9, 8), datetime.date(2024, 9, 7),\n",
       "       datetime.date(2024, 9, 6), datetime.date(2024, 9, 5),\n",
       "       datetime.date(2024, 9, 4), datetime.date(2024, 9, 3),\n",
       "       datetime.date(2024, 9, 2), datetime.date(2024, 9, 1)], dtype=object)"
      ]
     },
     "execution_count": 66,
     "metadata": {},
     "output_type": "execute_result"
    }
   ],
   "source": [
    "df_pay_updated.sap_complete.dt.date.unique()"
   ]
  },
  {
   "cell_type": "code",
   "execution_count": 67,
   "metadata": {},
   "outputs": [
    {
     "data": {
      "image/png": "[encoded data removed]",
      "text/plain": [
       "<Figure size 1000x600 with 1 Axes>"
      ]
     },
     "metadata": {},
     "output_type": "display_data"
    }
   ],
   "source": [
    "df_pay_plot = df_under_ahour.copy()\n",
    "\n",
    "df_pay_plot['date'] = df_pay_plot['sap_complete'].dt.date\n",
    "\n",
    "df_pay_plot['total_time_to_print_invoice_sec'] = df_pay_plot['total_time_to_print_invoice'].dt.total_seconds() / 60\n",
    "average_time_per_day = df_pay_plot.groupby('date')['total_time_to_print_invoice_sec'].mean()\n",
    "\n",
    "plt.figure(figsize=(10, 6))\n",
    "average_time_per_day.plot(kind='line', marker='o', color='blue')\n",
    "\n",
    "plt.title('Trend of Average Total Time to Print Invoice Over Time')\n",
    "plt.xlabel('Payment Date IHub')\n",
    "plt.ylabel('Average Total Time to Print Invoice (minutes)')\n",
    "plt.grid(True)\n",
    "plt.xticks(rotation=45)\n",
    "plt.show()"
   ]
  },
  {
   "cell_type": "code",
   "execution_count": 68,
   "metadata": {},
   "outputs": [
    {
     "data": {
      "text/plain": [
       "date\n",
       "2024-09-01    1.647436\n",
       "2024-09-02    2.261883\n",
       "2024-09-03    1.813927\n",
       "2024-09-04    1.608333\n",
       "2024-09-05    1.330449\n",
       "2024-09-06    1.532444\n",
       "2024-09-07    1.694565\n",
       "2024-09-08    1.740278\n",
       "Name: total_time_to_print_invoice_sec, dtype: float64"
      ]
     },
     "execution_count": 68,
     "metadata": {},
     "output_type": "execute_result"
    }
   ],
   "source": [
    "average_time_per_day"
   ]
  },
  {
   "cell_type": "markdown",
   "metadata": {},
   "source": [
    "Grafik ini menunjukkan fluktuasi dalam waktu yang dibutuhkan untuk mencetak nota sejak pembayaran dilakukan oleh pelanggan. Ada hari-hari di mana proses pencetakan lebih lambat (seperti 2 September), namun terdapat hari lain ketika proses ini lebih cepat (seperti 5 September)."
   ]
  },
  {
   "cell_type": "code",
   "execution_count": 69,
   "metadata": {},
   "outputs": [
    {
     "data": {
      "text/plain": [
       "sap_complete\n",
       "2024-09-02    108\n",
       "2024-09-05    104\n",
       "2024-09-07     92\n",
       "2024-09-04     80\n",
       "2024-09-06     75\n",
       "2024-09-03     73\n",
       "2024-09-08     24\n",
       "2024-09-01     13\n",
       "Name: count, dtype: int64"
      ]
     },
     "execution_count": 69,
     "metadata": {},
     "output_type": "execute_result"
    }
   ],
   "source": [
    "df_under_ahour.sap_complete.dt.date.value_counts()"
   ]
  },
  {
   "cell_type": "code",
   "execution_count": 70,
   "metadata": {},
   "outputs": [
    {
     "name": "stderr",
     "output_type": "stream",
     "text": [
      "C:\\Users\\Lenovo\\AppData\\Local\\Temp\\ipykernel_11640\\2915541490.py:2: SettingWithCopyWarning: \n",
      "A value is trying to be set on a copy of a slice from a DataFrame.\n",
      "Try using .loc[row_indexer,col_indexer] = value instead\n",
      "\n",
      "See the caveats in the documentation: https://pandas.pydata.org/pandas-docs/stable/user_guide/indexing.html#returning-a-view-versus-a-copy\n",
      "  df_under_ahour['flagging_praya_delay_minutes'] = df_under_ahour['flagging_praya_delay'].dt.total_seconds() / 60\n",
      "C:\\Users\\Lenovo\\AppData\\Local\\Temp\\ipykernel_11640\\2915541490.py:3: SettingWithCopyWarning: \n",
      "A value is trying to be set on a copy of a slice from a DataFrame.\n",
      "Try using .loc[row_indexer,col_indexer] = value instead\n",
      "\n",
      "See the caveats in the documentation: https://pandas.pydata.org/pandas-docs/stable/user_guide/indexing.html#returning-a-view-versus-a-copy\n",
      "  df_under_ahour['sap_send_delay_minutes'] = df_under_ahour['sap_send_delay'].dt.total_seconds() / 60\n",
      "C:\\Users\\Lenovo\\AppData\\Local\\Temp\\ipykernel_11640\\2915541490.py:4: SettingWithCopyWarning: \n",
      "A value is trying to be set on a copy of a slice from a DataFrame.\n",
      "Try using .loc[row_indexer,col_indexer] = value instead\n",
      "\n",
      "See the caveats in the documentation: https://pandas.pydata.org/pandas-docs/stable/user_guide/indexing.html#returning-a-view-versus-a-copy\n",
      "  df_under_ahour['sap_nofaktur_generate_time_minutes'] = df_under_ahour['sap_nofaktur_generate_time'].dt.total_seconds() / 60\n"
     ]
    },
    {
     "data": {
      "image/png": "[encoded data removed]",
      "text/plain": [
       "<Figure size 1500x500 with 3 Axes>"
      ]
     },
     "metadata": {},
     "output_type": "display_data"
    },
    {
     "name": "stderr",
     "output_type": "stream",
     "text": [
      "C:\\Users\\Lenovo\\AppData\\Local\\Temp\\ipykernel_11640\\2915541490.py:41: MatplotlibDeprecationWarning: The 'labels' parameter of boxplot() has been renamed 'tick_labels' since Matplotlib 3.9; support for the old name will be dropped in 3.11.\n",
      "  plt.boxplot(data_to_plot, labels=['Flagging PRAYA Delay', 'SAP Send Delay', 'SAP Generate No Faktur Time'])\n"
     ]
    },
    {
     "data": {
      "image/png": "[encoded data removed]",
      "text/plain": [
       "<Figure size 1000x600 with 1 Axes>"
      ]
     },
     "metadata": {},
     "output_type": "display_data"
    }
   ],
   "source": [
    "# Mengonversi timedelta menjadi detik atau menit untuk kemudahan analisis\n",
    "df_under_ahour['flagging_praya_delay_minutes'] = df_under_ahour['flagging_praya_delay'].dt.total_seconds() / 60\n",
    "df_under_ahour['sap_send_delay_minutes'] = df_under_ahour['sap_send_delay'].dt.total_seconds() / 60\n",
    "df_under_ahour['sap_nofaktur_generate_time_minutes'] = df_under_ahour['sap_nofaktur_generate_time'].dt.total_seconds() / 60\n",
    "\n",
    "# 1. Membuat histogram untuk setiap delay\n",
    "plt.figure(figsize=(15, 5))\n",
    "\n",
    "# Histogram untuk flagging_praya_delay (PRAYA)\n",
    "plt.subplot(1, 3, 1)\n",
    "plt.hist(df_under_ahour['flagging_praya_delay_minutes'], bins=20, color='blue', edgecolor='black')\n",
    "plt.title('Distribution of Flagging PRAYA Delay (Minutes)')\n",
    "plt.xlabel('Minutes')\n",
    "plt.ylabel('Frequency')\n",
    "\n",
    "# Histogram untuk sap_send_delay (PRAYA ke SAP)\n",
    "plt.subplot(1, 3, 2)\n",
    "plt.hist(df_under_ahour['sap_send_delay_minutes'], bins=20, color='green', edgecolor='black')\n",
    "plt.title('Distribution of SAP Send Delay (Minutes)')\n",
    "plt.xlabel('Minutes')\n",
    "plt.ylabel('Frequency')\n",
    "\n",
    "# Histogram untuk sap_nofaktur_generate_time (SAP)\n",
    "plt.subplot(1, 3, 3)\n",
    "plt.hist(df_under_ahour['sap_nofaktur_generate_time_minutes'], bins=20, color='red', edgecolor='black')\n",
    "plt.title('Distribution of SAP Generate No Faktur Time (Minutes)')\n",
    "plt.xlabel('Minutes')\n",
    "plt.ylabel('Frequency')\n",
    "\n",
    "plt.tight_layout()\n",
    "plt.show()\n",
    "\n",
    "# 2. Membuat boxplot untuk ketiga delay sekaligus\n",
    "plt.figure(figsize=(10, 6))\n",
    "data_to_plot = [\n",
    "    df_under_ahour['flagging_praya_delay_minutes'].dropna(),\n",
    "    df_under_ahour['sap_send_delay_minutes'].dropna(),\n",
    "    df_under_ahour['sap_nofaktur_generate_time_minutes'].dropna()\n",
    "]\n",
    "\n",
    "plt.boxplot(data_to_plot, labels=['Flagging PRAYA Delay', 'SAP Send Delay', 'SAP Generate No Faktur Time'])\n",
    "plt.title('Comparison of Delays (PRAYA and SAP)')\n",
    "plt.ylabel('Minutes')\n",
    "plt.grid(True)\n",
    "plt.show()"
   ]
  },
  {
   "cell_type": "markdown",
   "metadata": {},
   "source": [
    "**Interpretasi Histogram dan Box Plot**\n",
    "\n",
    "- **PRAYA**: Proses flagging lunas di **PRAYA sangat cepat**, sehingga tidak menjadi penyebab utama keterlambatan.\n",
    "- **PRAYA ke SAP**: Pengiriman nota dari **PRAYA ke SAP juga berjalan lancar** dengan keterlambatan yang sangat minimal.\n",
    "- **SAP**: Proses di SAP, terutama generate nomor faktur, adalah komponen yang **paling sering mengalami gangguan** atau keterlambatan signifikan. Outlier dalam proses ini menunjukkan bahwa SAP kadang-kadang membutuhkan waktu yang jauh lebih lama daripada yang diharapkan untuk menyelesaikan pemrosesan faktur, yang dapat mempengaruhi total waktu pencetakan nota.\n",
    "\n",
    "Jika keterlambatan terjadi dalam proses pencetakan nota, **SAP adalah sistem yang paling mungkin mengalami gangguan atau keterlambatan, berdasarkan visualisasi dan data yang ada**."
   ]
  },
  {
   "cell_type": "code",
   "execution_count": 73,
   "metadata": {},
   "outputs": [],
   "source": [
    "df_pay_updated.to_excel(r'C:\\Users\\Lenovo\\Documents\\Work\\Pelindo\\data\\Data_Praya_Updated.xlsx', index=False)"
   ]
  }
 ],
 "metadata": {
  "kernelspec": {
   "display_name": "Python 3",
   "language": "python",
   "name": "python3"
  },
  "language_info": {
   "codemirror_mode": {
    "name": "ipython",
    "version": 3
   },
   "file_extension": ".py",
   "mimetype": "text/x-python",
   "name": "python",
   "nbconvert_exporter": "python",
   "pygments_lexer": "ipython3",
   "version": "3.12.3"
  }
 },
 "nbformat": 4,
 "nbformat_minor": 2
}
